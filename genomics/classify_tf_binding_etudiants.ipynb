{
  "nbformat": 4,
  "nbformat_minor": 0,
  "metadata": {
    "colab": {
      "provenance": [],
      "include_colab_link": true
    },
    "kernelspec": {
      "name": "python3",
      "display_name": "Python 3"
    },
    "language_info": {
      "name": "python"
    }
  },
  "cells": [
    {
      "cell_type": "markdown",
      "metadata": {
        "id": "view-in-github",
        "colab_type": "text"
      },
      "source": [
        "<a href=\"https://colab.research.google.com/github/Bast-94/ML-BIO/blob/dna-drafts/genomics/classify_tf_binding_etudiants.ipynb\" target=\"_parent\"><img src=\"https://colab.research.google.com/assets/colab-badge.svg\" alt=\"Open In Colab\"/></a>"
      ]
    },
    {
      "cell_type": "code",
      "source": [
        "!pip install numpy"
      ],
      "metadata": {
        "colab": {
          "base_uri": "https://localhost:8080/"
        },
        "id": "jTB3yc4g5fCz",
        "outputId": "59ed4658-0138-4d65-c374-c7a3f9bc8cdc"
      },
      "execution_count": null,
      "outputs": [
        {
          "output_type": "stream",
          "name": "stdout",
          "text": [
            "Requirement already satisfied: numpy in /usr/local/lib/python3.10/dist-packages (1.23.5)\n"
          ]
        }
      ]
    },
    {
      "cell_type": "markdown",
      "metadata": {
        "id": "BpI9eESpkREM"
      },
      "source": [
        "# Ex1: Onehot coding DNA\n",
        "\n",
        "Write a function called **onehot_dna(dna_str)** that allows to encode a DNA segment where each base is encoded as a vector of all zeros except one in a specific position. The result of this function is an array numpy.  DNA is a long chain of repeating bases strung together. There are 4 bases: A, C, G, T. For example, \"AACCCAAATCGGGGG\" is a DNA segment.\n",
        "\n",
        "\n",
        "\n",
        "For example, **onehot_dna('AAT')** should return\n",
        "\n",
        "array([[1, 0, 0, 0],\n",
        "       [1, 0, 0, 0],\n",
        "       [0, 0, 0, 1]])\n",
        "\n",
        "\n",
        "\n",
        "\n"
      ]
    },
    {
      "cell_type": "code",
      "source": [
        "import numpy as np"
      ],
      "metadata": {
        "id": "yuVAcKju5lGr"
      },
      "execution_count": null,
      "outputs": []
    },
    {
      "cell_type": "code",
      "metadata": {
        "id": "YbhaCZP1moii"
      },
      "source": [
        "def onehot_dna(dna_str):\n",
        "  pass"
      ],
      "execution_count": null,
      "outputs": []
    },
    {
      "cell_type": "code",
      "metadata": {
        "colab": {
          "base_uri": "https://localhost:8080/"
        },
        "id": "WM-BaQiGo82A",
        "outputId": "74166e2c-36d9-4382-92d6-c5888c281a88"
      },
      "source": [
        "onehot_dna('AAT')"
      ],
      "execution_count": null,
      "outputs": [
        {
          "output_type": "execute_result",
          "data": {
            "text/plain": [
              "array([[1, 0, 0, 0],\n",
              "       [1, 0, 0, 0],\n",
              "       [0, 0, 0, 1]])"
            ]
          },
          "metadata": {},
          "execution_count": 5
        }
      ]
    },
    {
      "cell_type": "markdown",
      "metadata": {
        "id": "AkSQo19z60n1"
      },
      "source": [
        "# Deep learning to classify Transcription Factor Biding\n",
        "\n",
        "\n",
        "In the next exercises, we will learn how to use Deep learning to predict whether a segment of DNA does include or does not include a sit where JUND binds. (JUND is a particular transcription factor).\n",
        "\n",
        "In this purpose, we will use data that is extracted from the chapter 6 of the book: 'Deep learning for the life science'. This book is written by B.Ramsundar, P.Eastman, P. Walters and V.Pande.\n",
        "\n",
        "\n",
        "Data consist of DNA segments that have been split up from a full chromosome. Each segment is of 101 bases long and has been labeled to indicate whether it does or does not include a site where JUND binds to.\n",
        "\n",
        "\n",
        "This is a binary classification problem.\n",
        "The process of creating a PyTorch neural network binary classifier consists of several steps:\n",
        "\n",
        "1. Prepare the training and test data\n",
        "\n",
        "2. Implement a Dataset object to serve up the data\n",
        "\n",
        "3. Design and implement a neural network\n",
        "\n",
        "4. Write code to train the network\n",
        "\n",
        "5. Write code to evaluate the model (the trained network)\n"
      ]
    },
    {
      "cell_type": "markdown",
      "metadata": {
        "id": "XS8a5oOmOjqO"
      },
      "source": [
        "# Ex 2:  Load Data\n",
        "\n",
        "1. With the help of the joblib library, load the following files for training set:  **y_train.joblib**, **X_train.joblib**  and then store the results in variables **y_train, X_train** ,respectively.\n",
        "\n",
        "2. Do the same thing for the test set: load  **y_test.joblib**, **X_test.joblib**  and then store the results in variables **y_test, X_test**, respectively.\n",
        "\n",
        "3. What are the shape of **X_train** and **y_train** ? How many DNA segments are there in traning set ?\n",
        "\n",
        "4. Display a DNA segment from **X_train** (using matplotlib.pyplot.imshow ).\n",
        "\n",
        "5. Plot the histogram of **y_train** to see whether data is imbalanced or not.\n"
      ]
    },
    {
      "cell_type": "code",
      "metadata": {
        "id": "NB5Y5StQezcZ"
      },
      "source": [
        "## 1."
      ],
      "execution_count": null,
      "outputs": []
    },
    {
      "cell_type": "code",
      "source": [
        "## 2."
      ],
      "metadata": {
        "id": "Ry41n_BL8-jF"
      },
      "execution_count": null,
      "outputs": []
    },
    {
      "cell_type": "code",
      "metadata": {
        "id": "FMLs0OOTV4E5"
      },
      "source": [
        "## 3."
      ],
      "execution_count": null,
      "outputs": []
    },
    {
      "cell_type": "code",
      "metadata": {
        "id": "TceRZcS3MENp"
      },
      "source": [
        "## 4."
      ],
      "execution_count": null,
      "outputs": []
    },
    {
      "cell_type": "code",
      "metadata": {
        "id": "xVwu_64FUcWU"
      },
      "source": [
        "## 5."
      ],
      "execution_count": null,
      "outputs": []
    },
    {
      "cell_type": "markdown",
      "metadata": {
        "id": "EajNPJrnAmde"
      },
      "source": [
        "# Ex 3: Convert numpy array to tensor pytorch\n",
        "\n",
        "As you see in the previous exercise, **X_train** consists of 4672 segments. Each segment is encoded by 0 and 1 (one-hot encoding).\n",
        "\n",
        "\n",
        "1. Convert numpy array **X_train**, **y_train** into pytorch tensor. Reshape **X_train** to (4672, 4, 101). Note that the type of **X_train** and **y_train** should be float.\n",
        "\n",
        "2. Do the same thing for **X_test** and **y_test**\n"
      ]
    },
    {
      "cell_type": "code",
      "metadata": {
        "id": "E8eedW_yPUKu"
      },
      "source": [
        "## 1.\n",
        "import torch\n"
      ],
      "execution_count": null,
      "outputs": []
    },
    {
      "cell_type": "code",
      "metadata": {
        "id": "GrBcHzR-E-yR"
      },
      "source": [
        "\n"
      ],
      "execution_count": null,
      "outputs": []
    },
    {
      "cell_type": "code",
      "metadata": {
        "id": "Wn_0dOuVHWhs"
      },
      "source": [
        "## 2."
      ],
      "execution_count": null,
      "outputs": []
    },
    {
      "cell_type": "code",
      "metadata": {
        "id": "o_it3skAH0Yt"
      },
      "source": [],
      "execution_count": null,
      "outputs": []
    },
    {
      "cell_type": "markdown",
      "metadata": {
        "id": "mEYJBjBdg547"
      },
      "source": [
        "# Ex4: Create Dataset\n",
        "In order to train a deep learning model with Pytorch, we need a pytorch dataset.\n",
        "The DNADataset class below allows for creating a pytorch Dataset from DNA segments and their labels.\n",
        "\n",
        "1. Using this class, create a dataset for training set. You should call it **train_dataset**\n",
        "\n",
        "2. Create **Dataloader** from **train_dataset**. You should call it **train_loader**.\n",
        "\n",
        "3. Do the same thing for the test set."
      ]
    },
    {
      "cell_type": "code",
      "metadata": {
        "id": "GkvyOQVggLz_"
      },
      "source": [
        "class DNADataset(torch.utils.data.Dataset):\n",
        "    def __init__(self, dna, labels):\n",
        "        self.labels = labels\n",
        "        self.dna = dna\n",
        "\n",
        "\n",
        "    def __len__(self):\n",
        "        return len(self.labels)\n",
        "\n",
        "\n",
        "    def __getitem__(self, idx):\n",
        "        label = self.labels[idx]\n",
        "        frag_dna = self.dna[idx]\n",
        "\n",
        "        sample = {'DNA': frag_dna, 'Class': label}\n",
        "\n",
        "        return sample"
      ],
      "execution_count": null,
      "outputs": []
    },
    {
      "cell_type": "code",
      "metadata": {
        "id": "ZIUVVN_Qg8d1"
      },
      "source": [
        "## 1."
      ],
      "execution_count": null,
      "outputs": []
    },
    {
      "cell_type": "code",
      "source": [
        "## 2."
      ],
      "metadata": {
        "id": "_YQG76jIocW4"
      },
      "execution_count": null,
      "outputs": []
    },
    {
      "cell_type": "code",
      "metadata": {
        "id": "kj3HNTW2HRer"
      },
      "source": [
        "## 3."
      ],
      "execution_count": null,
      "outputs": []
    },
    {
      "cell_type": "markdown",
      "metadata": {
        "id": "VDcbP17Rb2xt"
      },
      "source": [
        "# Design and implement a convolutional neural network\n",
        "\n",
        "Now, it's time to build your model. This is a binary classification problem. We can use a convolution neural network, just like an image classification problem. However, since the size of a DNA segment is (4, 101), we will use 1D convolution instead of 2D convolution.\n",
        "\n",
        "\n",
        "\n",
        "Firstly, we will test how does a 1D convolution work on our data.\n",
        "\n"
      ]
    },
    {
      "cell_type": "markdown",
      "metadata": {
        "id": "xlPP4E3UfRYe"
      },
      "source": [
        "# EX 5: 1D Convolution\n",
        "\n",
        "1. With the help of the torch.nn.Conv1d class, create a 1D convolutional layer. You need to choose values for the following parameters: **in_channels**, **out_channels**, **kernel_size**.\n",
        "\n",
        "\n",
        "2. Apply this layer to **dna_seg** below. What is the size of the output ?\n",
        "\n",
        "\n",
        "3. [Optional] Display the output by using matplotlib.pyplot.imshow\n",
        "\n",
        "\n"
      ]
    },
    {
      "cell_type": "code",
      "metadata": {
        "id": "C9y0yRXhhj1F"
      },
      "source": [
        "## 1."
      ],
      "execution_count": null,
      "outputs": []
    },
    {
      "cell_type": "code",
      "metadata": {
        "id": "FJ9uE489imxl"
      },
      "source": [
        "## 2."
      ],
      "execution_count": null,
      "outputs": []
    },
    {
      "cell_type": "code",
      "metadata": {
        "id": "UWvh59eVZfCf"
      },
      "source": [
        "## 3."
      ],
      "execution_count": null,
      "outputs": []
    },
    {
      "cell_type": "markdown",
      "metadata": {
        "id": "H26rAy0wkbca"
      },
      "source": [
        "# EX 6: Build a model\n",
        "\n",
        "The following code is used to build a CNN model for a classification problem. This model consists of :\n",
        "\n",
        "1. 3 layers of  1D-convolution. Each convolutional layer is followed by an activiation ReLu.\n",
        "\n",
        "2. 2 Linear layers\n",
        "\n",
        "\n",
        "Complete the lines # TODO below to finish the definition of this network."
      ]
    },
    {
      "cell_type": "code",
      "metadata": {
        "id": "L_bs8O3lhB7m"
      },
      "source": [
        "import torch.nn as nn\n",
        "import torch.nn.functional as F\n",
        "\n",
        "class DeepDNA(nn.Module):\n",
        "\n",
        "  def __init__(self, sequence_length):\n",
        "    \"\"\"\n",
        "    Parameters\n",
        "    -----------\n",
        "    sequence_length: int\n",
        "    num_class: int\n",
        "\n",
        "    \"\"\"\n",
        "    super(DeepDNA,self).__init__()\n",
        "\n",
        "    #### TO DO ####\n",
        "\n",
        "\n",
        "    self.lin1 = nn.Linear(101*64, 32)\n",
        "    self.lin2 = nn.Linear(32, 1)\n",
        "\n",
        "\n",
        "  def forward(self, x):\n",
        "\n",
        "    # 1/ pass the first convolutional layer\n",
        "    #### TODO #####\n",
        "\n",
        "    # 2/ Pas the second convolutional layer\n",
        "    #### TODO #####\n",
        "\n",
        "    # 3/ Pass the third convolution layer\n",
        "    #### TODO #####\n",
        "\n",
        "    x = x.view(x.size(0), 101*64)\n",
        "\n",
        "    # TODO\n",
        "    # Linear Classifier\n",
        "\n",
        "    # Sigmoid\n",
        "    x = nn.Sigmoid()(x)\n",
        "\n",
        "    return x\n"
      ],
      "execution_count": null,
      "outputs": []
    },
    {
      "cell_type": "markdown",
      "metadata": {
        "id": "HVbFqM4laclu"
      },
      "source": [
        "# Ex 7 Test the model\n",
        "\n",
        "\n",
        "1. Create an instance of the DeepDNA class named **net**.\n",
        "\n",
        "2. Print out the variable **net** to see detailed information about the model.\n",
        "\n",
        "3. Pass **dna_seg** below to **net** in order to  test if your model **net** works well.\n",
        "\n",
        "4. What is the size of the output ?\n",
        "\n"
      ]
    },
    {
      "cell_type": "code",
      "metadata": {
        "id": "ladQCir7btvX"
      },
      "source": [
        "## 1."
      ],
      "execution_count": null,
      "outputs": []
    },
    {
      "cell_type": "code",
      "metadata": {
        "id": "RFzp7DbtlTwG"
      },
      "source": [
        "## 2."
      ],
      "execution_count": null,
      "outputs": []
    },
    {
      "cell_type": "code",
      "source": [
        "## 3."
      ],
      "metadata": {
        "id": "scFin6qzqBXd"
      },
      "execution_count": null,
      "outputs": []
    },
    {
      "cell_type": "code",
      "source": [
        "## 4."
      ],
      "metadata": {
        "id": "mpPkX7HLqCc-"
      },
      "execution_count": null,
      "outputs": []
    },
    {
      "cell_type": "markdown",
      "metadata": {
        "id": "yypmG11hr_so"
      },
      "source": [
        "# Ex 8: Define loss function and optimizer\n",
        "\n",
        "\n",
        "1. Define an SGD optimizer for the model. You need to choose the learning rate for your model.\n",
        "\n",
        "2. Define a Binary Cross Entropy (BCE) Loss  function.\n"
      ]
    },
    {
      "cell_type": "code",
      "metadata": {
        "id": "uZwQKSrxh1A_"
      },
      "source": [
        "## 1.\n",
        "## 2.\n"
      ],
      "execution_count": null,
      "outputs": []
    },
    {
      "cell_type": "markdown",
      "metadata": {
        "id": "7rEjVjhetI6A"
      },
      "source": [
        "# Ex 9: Training your model\n",
        "\n",
        "The following function allows to train the model for one epoch. This function returns total loss per epoch.\n",
        "Implement the training pass for this function.\n",
        "\n",
        "\n",
        "\n",
        "The general process with PyTorch for one learning step consits of several steps:\n",
        "\n",
        "1. Make a forward pass through the network\n",
        "2. Use the network output to calculate the loss\n",
        "3. Perform a backward pass through the network with loss.backward() to calculate the gradients\n",
        "4. Take a step with the optimizer to update the weights\n",
        "\n"
      ]
    },
    {
      "cell_type": "code",
      "metadata": {
        "id": "oAil9eU9iNCf"
      },
      "source": [],
      "execution_count": null,
      "outputs": []
    },
    {
      "cell_type": "markdown",
      "metadata": {
        "id": "Pz0VV2Oenftq"
      },
      "source": [
        "# Ex 11: Accuracy Calculation\n",
        "\n",
        "Write a function named **compute_num_correct_pred(y_prob, y_label)** that allows to compute the number of correct predictions. **y_prob** and **y_label** should be pytorch tensors.\n",
        "\n",
        "For example,\n",
        "y_prob = [[0.3],[0.4], [0.8], [0.7]].\n",
        "\n",
        "y = [[0], [1], [1], [0]].\n",
        "\n",
        "This function should return 2."
      ]
    },
    {
      "cell_type": "code",
      "metadata": {
        "id": "JZ3cRawWpFe7"
      },
      "source": [
        "### TODO ####\n",
        "def compute_num_correct_pred(y_prob, y_label):\n",
        "  pass\n",
        "\n"
      ],
      "execution_count": null,
      "outputs": []
    },
    {
      "cell_type": "markdown",
      "metadata": {
        "id": "3N_g4DA-vex8"
      },
      "source": [
        "\n",
        "The function below allows to calculate the accuracy of the model on dataset loader. Execute this function to see if you implemented the compute_num_correct_pred function correctly."
      ]
    },
    {
      "cell_type": "code",
      "metadata": {
        "id": "FY9V2-NCvv25"
      },
      "source": [
        "def test(loader):\n",
        "  net.eval()\n",
        "\n",
        "  correct = 0\n",
        "  with torch.no_grad():\n",
        "    for data in loader:\n",
        "      dna = data['DNA']\n",
        "      y = data['Class']\n",
        "\n",
        "      out = net(dna)\n",
        "      correct += compute_num_correct_pred(out, y)\n",
        "\n",
        "  return correct / len(loader.dataset)"
      ],
      "execution_count": null,
      "outputs": []
    },
    {
      "cell_type": "markdown",
      "metadata": {
        "id": "I0vTKeeQ3wGb"
      },
      "source": [
        "# Ex 12: Training the model\n",
        "\n",
        "Write code to train your model on 10 epoches to see if everything is going well and then you can try to add more epoches.\n"
      ]
    },
    {
      "cell_type": "code",
      "metadata": {
        "id": "K-vkWpKLixGE"
      },
      "source": [],
      "execution_count": null,
      "outputs": []
    },
    {
      "cell_type": "markdown",
      "metadata": {
        "id": "WX_FGbp4tV0Z"
      },
      "source": [
        "# Ex13 (optional)\n",
        "\n",
        "1. If we use torch.nn.BCEWithLogitsLoss(), what does we need to change to the definition of the model ?\n",
        "\n",
        "\n",
        "2. The same question for torch.nn.CrossEntropyLoss() loss.  "
      ]
    },
    {
      "cell_type": "code",
      "metadata": {
        "id": "0l-GFUSOmOIr"
      },
      "source": [],
      "execution_count": null,
      "outputs": []
    }
  ]
}