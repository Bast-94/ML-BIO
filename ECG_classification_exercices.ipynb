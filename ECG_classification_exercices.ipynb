{
  "cells": [
    {
      "cell_type": "markdown",
      "metadata": {
        "id": "view-in-github",
        "colab_type": "text"
      },
      "source": [
        "<a href=\"https://colab.research.google.com/github/Bast-94/ML-BIO/blob/ex1/ECG_classification_exercices.ipynb\" target=\"_parent\"><img src=\"https://colab.research.google.com/assets/colab-badge.svg\" alt=\"Open In Colab\"/></a>"
      ]
    },
    {
      "cell_type": "code",
      "source": [
        "!pip install wfdb"
      ],
      "metadata": {
        "id": "MlUwIxUJbUgV",
        "outputId": "628b5840-dadc-405e-d2c8-6aea892d4752",
        "colab": {
          "base_uri": "https://localhost:8080/"
        }
      },
      "execution_count": 2,
      "outputs": [
        {
          "output_type": "stream",
          "name": "stdout",
          "text": [
            "Collecting wfdb\n",
            "  Downloading wfdb-4.1.2-py3-none-any.whl (159 kB)\n",
            "\u001b[2K     \u001b[90m━━━━━━━━━━━━━━━━━━━━━━━━━━━━━━━━━━━━━━━\u001b[0m \u001b[32m160.0/160.0 kB\u001b[0m \u001b[31m2.9 MB/s\u001b[0m eta \u001b[36m0:00:00\u001b[0m\n",
            "\u001b[?25hRequirement already satisfied: SoundFile>=0.10.0 in /usr/local/lib/python3.10/dist-packages (from wfdb) (0.12.1)\n",
            "Requirement already satisfied: matplotlib>=3.2.2 in /usr/local/lib/python3.10/dist-packages (from wfdb) (3.7.1)\n",
            "Requirement already satisfied: numpy>=1.10.1 in /usr/local/lib/python3.10/dist-packages (from wfdb) (1.23.5)\n",
            "Requirement already satisfied: pandas>=1.3.0 in /usr/local/lib/python3.10/dist-packages (from wfdb) (1.5.3)\n",
            "Requirement already satisfied: requests>=2.8.1 in /usr/local/lib/python3.10/dist-packages (from wfdb) (2.31.0)\n",
            "Requirement already satisfied: scipy>=1.0.0 in /usr/local/lib/python3.10/dist-packages (from wfdb) (1.10.1)\n",
            "Requirement already satisfied: contourpy>=1.0.1 in /usr/local/lib/python3.10/dist-packages (from matplotlib>=3.2.2->wfdb) (1.1.0)\n",
            "Requirement already satisfied: cycler>=0.10 in /usr/local/lib/python3.10/dist-packages (from matplotlib>=3.2.2->wfdb) (0.11.0)\n",
            "Requirement already satisfied: fonttools>=4.22.0 in /usr/local/lib/python3.10/dist-packages (from matplotlib>=3.2.2->wfdb) (4.42.1)\n",
            "Requirement already satisfied: kiwisolver>=1.0.1 in /usr/local/lib/python3.10/dist-packages (from matplotlib>=3.2.2->wfdb) (1.4.4)\n",
            "Requirement already satisfied: packaging>=20.0 in /usr/local/lib/python3.10/dist-packages (from matplotlib>=3.2.2->wfdb) (23.1)\n",
            "Requirement already satisfied: pillow>=6.2.0 in /usr/local/lib/python3.10/dist-packages (from matplotlib>=3.2.2->wfdb) (9.4.0)\n",
            "Requirement already satisfied: pyparsing>=2.3.1 in /usr/local/lib/python3.10/dist-packages (from matplotlib>=3.2.2->wfdb) (3.1.1)\n",
            "Requirement already satisfied: python-dateutil>=2.7 in /usr/local/lib/python3.10/dist-packages (from matplotlib>=3.2.2->wfdb) (2.8.2)\n",
            "Requirement already satisfied: pytz>=2020.1 in /usr/local/lib/python3.10/dist-packages (from pandas>=1.3.0->wfdb) (2023.3)\n",
            "Requirement already satisfied: charset-normalizer<4,>=2 in /usr/local/lib/python3.10/dist-packages (from requests>=2.8.1->wfdb) (3.2.0)\n",
            "Requirement already satisfied: idna<4,>=2.5 in /usr/local/lib/python3.10/dist-packages (from requests>=2.8.1->wfdb) (3.4)\n",
            "Requirement already satisfied: urllib3<3,>=1.21.1 in /usr/local/lib/python3.10/dist-packages (from requests>=2.8.1->wfdb) (2.0.4)\n",
            "Requirement already satisfied: certifi>=2017.4.17 in /usr/local/lib/python3.10/dist-packages (from requests>=2.8.1->wfdb) (2023.7.22)\n",
            "Requirement already satisfied: cffi>=1.0 in /usr/local/lib/python3.10/dist-packages (from SoundFile>=0.10.0->wfdb) (1.15.1)\n",
            "Requirement already satisfied: pycparser in /usr/local/lib/python3.10/dist-packages (from cffi>=1.0->SoundFile>=0.10.0->wfdb) (2.21)\n",
            "Requirement already satisfied: six>=1.5 in /usr/local/lib/python3.10/dist-packages (from python-dateutil>=2.7->matplotlib>=3.2.2->wfdb) (1.16.0)\n",
            "Installing collected packages: wfdb\n",
            "Successfully installed wfdb-4.1.2\n"
          ]
        }
      ]
    },
    {
      "cell_type": "code",
      "execution_count": 3,
      "metadata": {
        "id": "u5mLgWJ9bPwB"
      },
      "outputs": [],
      "source": [
        "import numpy as np\n",
        "import matplotlib.pyplot as plt\n",
        "%matplotlib inline\n",
        "\n",
        "import pandas as pd\n",
        "pd.set_option('display.max_columns', None)\n",
        "\n",
        "import wfdb\n",
        "import glob\n",
        "import os"
      ]
    },
    {
      "cell_type": "markdown",
      "metadata": {
        "id": "6Qu9ovtAbPwE"
      },
      "source": [
        "# Context\n",
        "Cardiovascular Disease is the main cause of humain death, responsible for 31% of the world cide deaths in 2016. The major cause of the cardiac deaths is cardiac arrhythmia. The best equipment for monitoring and identifying arrhythmia is an electrocardiogram(ECG).\n",
        "\n",
        "By recording ECG, analysing these features and classifying signals we can make assessments about the healthy state of the heart, diagnose certain diseases of the heart and predict whether a subject will go on to develop certain diseases.\n",
        "\n",
        "ECG (Electrocardiogram) is non-stationary physiolocial signal representing electrical activity of heart. In other words, ECG is a periodic waveform that describes the action of heart as it moves.\n",
        "\n",
        "\n",
        "In this project, we will classify ECG signals to make assessments about the health state of the heart. For this purpose, we use ensemble of three PhysioNet databases: MIT-BIH Arrhythmia Database, MIT-BIH Normal Sinus Rhythm Database, and The BIDMC Congestive Heart Failure Database.\n",
        "\n",
        "- MIT-BIH Arrhythmia database (ARR-Database) consists of 48 half-hour ECG recording from people with cardiac arrhythmia problem. Each record was sampled at 360 hertz and contains two chanels. source [here](https://www.physionet.org/content/mitdb/1.0.0/ ).\n",
        "\n",
        "- MIT-BIH Normal Sinus Rhythm Database (NSR-Database) consists of 18 long-tern ECG recording from people with normal sinus rhythms. Records in this databased were sampled at 128 hertz.\n",
        "source [here](https://www.physionet.org/content/nsrdb/1.0.0/).\n",
        "\n",
        "- BIDMC Congestive Heart Failure Database (CHF-Database) consists of 15 long-tern ECG recording from people with congestive heart failure. Records in this databased were sampled at 250 hertz. [source](https://www.physionet.org/content/chfdb/1.0.0/)\n"
      ]
    },
    {
      "cell_type": "markdown",
      "source": [
        "If you want to waves : https://www.physionet.org/lightwave/?db=mitdb/1.0.0\n"
      ],
      "metadata": {
        "id": "D6VoB2mldQcm"
      }
    },
    {
      "cell_type": "markdown",
      "metadata": {
        "id": "kut9WMCYbPwG"
      },
      "source": [
        "# List of exercises"
      ]
    },
    {
      "cell_type": "markdown",
      "metadata": {
        "id": "2Pt1P5VRbPwG"
      },
      "source": [
        "# Ex1: Plot signals and show data\n",
        "\n",
        "There files named \"101.dat\" and \"101.hea\" which are an human electrocardiogram (ECG) record of one person with cardiac arrhythmia (ARR) problem.\n",
        "\n",
        "1.1. Write a function named \"load_record_using_wfdb(filename, start, end, channel, directory)\" which reads a channel of a record from \"start\" to \"end\". Note that each record has two channels. This function returns numpy array which contains data of the signal.  \n",
        "To get the data it is easier if you stream the data from physionet.  \n",
        "\n",
        "Specify the parameter \"start\" = 0.\n",
        "\n",
        "\n",
        "Specify the parameter \"end\" = 2000\n",
        "\n",
        "\n",
        "1.2 By using matplotlib package, plot the signal. The signal is periodic ? Its shape is the same of a sinusoidal wave ?"
      ]
    },
    {
      "cell_type": "markdown",
      "source": [
        "**Question 1.1**"
      ],
      "metadata": {
        "id": "Kx7P2Ugamcuh"
      }
    },
    {
      "cell_type": "code",
      "source": [
        "def bload_record_using_wfdb(filename : str, start: str, end :float, channel:list, directory:str):\n",
        "  ecg_record =wfdb.rdsamp(filename, pn_dir=directory,sampfrom=start,sampto=end,channels=[channel])\n",
        "\n",
        "  return ecg_record[0]\n"
      ],
      "metadata": {
        "id": "RIg9cfhUXh0q"
      },
      "execution_count": 32,
      "outputs": []
    },
    {
      "cell_type": "code",
      "source": [
        "from matplotlib import legend\n",
        "filename='101'\n",
        "fig, ax = plt.subplots(1,figsize=(10,5))\n",
        "signal = bload_record_using_wfdb(filename=filename, start=0,end=2000,directory='mitdb',channel=0)\n",
        "ax.plot(signal,label=f'Channel 0')\n",
        "ax.set_title(f'Signal {filename}')\n",
        "\n",
        "ax.set_xlabel('samples')\n",
        "ax.legend()\n",
        "plt.legend()\n",
        "plt.show()\n"
      ],
      "metadata": {
        "id": "2kMN8WVqjHZj",
        "outputId": "cac6de96-8bbe-4e3e-dd9f-8c8dc1e2e3a8",
        "colab": {
          "base_uri": "https://localhost:8080/",
          "height": 487
        }
      },
      "execution_count": 33,
      "outputs": [
        {
          "output_type": "display_data",
          "data": {
            "text/plain": [
              "<Figure size 1000x500 with 1 Axes>"
            ],
            "image/png": "[encoded data removed]"
          },
          "metadata": {}
        }
      ]
    },
    {
      "cell_type": "markdown",
      "metadata": {
        "id": "3CVWhr7jbPwJ"
      },
      "source": [
        "# Ex2: Cut up signal\n",
        "2.1.  Write a function named \"split_vecto_into_chunk\" that splits an array vector into chunks of size N. It takes as arguments a vector and size of chunk and returns a list of its chunks.\n",
        "\n",
        "2.2.  ECG signals record frequently for a long period of time at different sampling rates.\n",
        "\n",
        "Write function named \"cut_signal_into_segments(signal, sampling_rate, duration_segment)\" which allows to cut up a signal into shorter segments of a specified duration. This function returns a list of segments.\n",
        "\n",
        "Note that:\n",
        "        number_of_samples = sampling_rate*duration.\n",
        "\n"
      ]
    },
    {
      "cell_type": "markdown",
      "source": [
        "[Note] For sampling rate put those indicate before for each record. (360 Hz)"
      ],
      "metadata": {
        "id": "VnsXt3sLwcpN"
      }
    },
    {
      "cell_type": "markdown",
      "source": [
        "[Note] In addition to test your function you can try to print the original signal and the chunks in the same cell or plot"
      ],
      "metadata": {
        "id": "u9cEpRE627wg"
      }
    },
    {
      "cell_type": "markdown",
      "metadata": {
        "id": "CstBrDQHbPwJ"
      },
      "source": [
        "## 2.1."
      ]
    },
    {
      "cell_type": "code",
      "execution_count": 34,
      "metadata": {
        "id": "MGLXkv-VbPwJ"
      },
      "outputs": [],
      "source": [
        "def split_vector_into_chunk(vector: np.ndarray, N: int):\n",
        "    num_blocs = len(vector) // N + (len(vector) % N != 0)\n",
        "    blocs = []\n",
        "\n",
        "    for i in range(num_blocs):\n",
        "        debut = i * N\n",
        "        fin = (i + 1) * N\n",
        "        bloc = vector[debut:fin]\n",
        "        blocs.append(bloc)\n",
        "\n",
        "    return np.asarray(blocs,dtype=object)"
      ]
    },
    {
      "cell_type": "markdown",
      "metadata": {
        "id": "WqdiJI2QbPwJ"
      },
      "source": [
        "### 2.1. Test (check function)"
      ]
    },
    {
      "cell_type": "code",
      "execution_count": 35,
      "metadata": {
        "id": "ItARU2KzbPwJ",
        "colab": {
          "base_uri": "https://localhost:8080/"
        },
        "outputId": "999caffa-b040-4f12-c4a3-c2c9cd9e0812"
      },
      "outputs": [
        {
          "output_type": "stream",
          "name": "stdout",
          "text": [
            "[[1 2]]\n",
            "[array([1, 2, 3]) array([4, 5, 6]) array([7, 8, 9]) array([10, 11, 12])\n",
            " array([13, 14])]\n",
            "[array([0.29925956, 0.10592838, 0.56565363])\n",
            " array([0.42537739, 0.68105954, 0.44388353]) array([0.18885667])]\n"
          ]
        }
      ],
      "source": [
        "import numpy as np\n",
        "list_vectors = [np.array([1,2]), np.array([1,2,3,4,5,6,7,8,9,10, 11, 12, 13,14]), np.random.rand(7)]\n",
        "\n",
        "for vector in list_vectors:\n",
        "    result = split_vector_into_chunk(vector, 3)\n",
        "    print(result)"
      ]
    },
    {
      "cell_type": "markdown",
      "source": [
        "## 2.2."
      ],
      "metadata": {
        "id": "sAgOl6WdE3L_"
      }
    },
    {
      "cell_type": "code",
      "execution_count": 43,
      "metadata": {
        "id": "Z1bctZe6bPwK"
      },
      "outputs": [],
      "source": [
        "def cut_signal_into_segments(signal:np.ndarray, sampling_rate, duration_segment):\n",
        "  return split_vector_into_chunk(signal,sampling_rate*duration_segment)\n",
        "sampling_rate = 360\n",
        "duration_segment = 1\n",
        "all_cuts = cut_signal_into_segments(signal,sampling_rate,duration_segment)"
      ]
    },
    {
      "cell_type": "markdown",
      "metadata": {
        "id": "KI4VeiskbPwK"
      },
      "source": [
        "## 2.2. Test"
      ]
    },
    {
      "cell_type": "code",
      "execution_count": 44,
      "metadata": {
        "scrolled": true,
        "id": "DIsg1k6IbPwK"
      },
      "outputs": [],
      "source": [
        "for cut in all_cuts:\n",
        "  assert cut.shape[0] <= sampling_rate*duration_segment"
      ]
    },
    {
      "cell_type": "markdown",
      "metadata": {
        "id": "lTA1ZfcnbPwK"
      },
      "source": [
        "# Ex3:  Synchronize data\n",
        "These records from different database were digitized at different frequences.\n",
        "We recall that ECG records of ARR-Database were sampled at 360 Hz, those of CHF Database at 250 Hz and those of NSR Database at 128Hz.\n",
        "\n",
        "3.1. With SCIPY package, write a function named \"synchronize_signal\" which resamples signal at any sampling rate to a common rate (for example 128 Hz). It takes as arguments a signal and its sampling rate and new sampling rate that we want to resample.\n",
        "\n",
        "3.2.  Plot the original and resampled signals on the same figure (using subplot of matplotlib).\n"
      ]
    },
    {
      "cell_type": "markdown",
      "metadata": {
        "id": "CCsv6kMCbPwK"
      },
      "source": [
        "## 3.1. Solution"
      ]
    },
    {
      "cell_type": "code",
      "execution_count": null,
      "metadata": {
        "id": "-hqsbfhVbPwK"
      },
      "outputs": [],
      "source": []
    },
    {
      "cell_type": "markdown",
      "metadata": {
        "id": "whUB2cvfbPwL"
      },
      "source": [
        "### 3.1. Test"
      ]
    },
    {
      "cell_type": "code",
      "execution_count": null,
      "metadata": {
        "id": "9lQ4euRObPwL"
      },
      "outputs": [],
      "source": [
        "list_signals = [np.array([0,1,2,3,4,5,6]), np.array([1,2,3]), np.array([1,2,3,4,5,6,7,8,9,10])]\n",
        "for signal in list_signals:\n",
        "    signal_resampled = synchronize_signal(signal, 1, 2/3)\n",
        "    print(signal_resampled)"
      ]
    },
    {
      "cell_type": "markdown",
      "metadata": {
        "id": "My_Yt_rObPwL"
      },
      "source": [
        "### 3.2. Test"
      ]
    },
    {
      "cell_type": "code",
      "execution_count": null,
      "metadata": {
        "id": "xsjzCaEJbPwL"
      },
      "outputs": [],
      "source": []
    },
    {
      "cell_type": "code",
      "execution_count": null,
      "metadata": {
        "id": "wO24sMYMbPwL"
      },
      "outputs": [],
      "source": []
    },
    {
      "cell_type": "code",
      "execution_count": null,
      "metadata": {
        "id": "7L25sMPWbPwL"
      },
      "outputs": [],
      "source": []
    },
    {
      "cell_type": "markdown",
      "metadata": {
        "id": "gGA3jj-ybPwL"
      },
      "source": [
        "# Ex4) Remove noise\n",
        "ECG signals frequently contain some noise. There are many reasons for this:\n",
        "- Activity of other body muscles\n",
        "- Baseline shift because of respirators\n",
        "- Poor contact of electrode\n",
        "- Equiment ...\n",
        "\n",
        "It's important to remove noise from signals. The common frequencies of the important components on the ECG from 0.5Hz - 100Hz.\n",
        "\n",
        "An array signal named \"signal_arr\" is loaded in the environement.\n",
        "\n",
        "\n",
        "4.1.  We note that a low pass filter that allows to passes signals with a frequency lower than a selected cutoff frequency and attenuates signals with frequencies higher than the cutoff frequency.\n",
        "\n",
        "\n",
        "Using scipy.butter, design a low pass filter which filters out frequencies larger than 100Hz. Apply it to signal_arr.\n",
        "\n",
        "\n",
        "\n",
        "4.2. Similarly, A high pass filter is used to isolate the signals which have frequencies lower than the cutoff frequency.\n",
        "\n",
        "Design a high pass filter which filters out frequencies smaller than 0.5 Hz. Apply it to signal_arr.\n",
        "\n",
        "\n",
        "\n",
        "4.3.  A band-pass filter can be formed by cascading a high-pass filter and a low-pass filter.\n",
        "\n",
        "Design a band-pass filter which filters out frequencies out of range 0.5Hz - 100Hz. Apply it to signal_arr.\n",
        "\n",
        "4.4.  Plot these signals on the same figure (using the method \"matplotlib.pyplot.subplots\"). Do you have any comments on the magnitude of these signals ? Did the shape of the origine signal change after passing through one of these filter ?"
      ]
    },
    {
      "cell_type": "markdown",
      "metadata": {
        "id": "KoXN-SWWbPwM"
      },
      "source": [
        "## Solution"
      ]
    },
    {
      "cell_type": "code",
      "execution_count": null,
      "metadata": {
        "id": "skhRhjWRbPwM"
      },
      "outputs": [],
      "source": []
    },
    {
      "cell_type": "code",
      "execution_count": null,
      "metadata": {
        "id": "wvpbprZqbPwM"
      },
      "outputs": [],
      "source": []
    },
    {
      "cell_type": "markdown",
      "metadata": {
        "id": "TNLiGtRtbPwM"
      },
      "source": [
        "# Ex5)  Discrete Wavelet Transform (DWT)\n",
        "A way of splitting a signal into several frequency sub-bands is to use Discrete Wavelet transform (DWT). The output of DWT contains two sets of coefficients: the approximation coefficients and detail coefficient.\n",
        "\n",
        "\n",
        "5.1 Using package pywt in Python, decompose a ECG signal using DWT. Plot the approximation coeffs and detail coeffs on the same figure (using the method subplots of matplotlib )\n",
        "\n",
        "Do you have comments on the magnitude of approximation coeffs and that of detail coeffs, compare them to that of origine signal ? Did you see the diffence between the origine signal and the approximation coeffs ?\n",
        "\n",
        "5.2 We can again apply DWT on the approximation coefficients of the previous DWT to get the next level. The method pywt.wavedec() allows us to immediately calculate the coefficients of a higher level.  Using this method, calculate the coeffs of your signal until levels 5. Plot these coeffs on the same figure.\n",
        "\n",
        "\n",
        "How many are there sets of the coeffs at level 5? Compare these sets of the coeffs to the origine signal. Which one approximates the origine signal ? What is the difference between the 6th coeffs and the detail coeffs ( in exercise 1) ?  Could you deduce how the DWT works ?\n",
        "When we increase detail levels, what happen between between original signal and its approximation coefficients ?"
      ]
    },
    {
      "cell_type": "markdown",
      "metadata": {
        "id": "AYc4RCk5bPwM"
      },
      "source": [
        "## Solution"
      ]
    },
    {
      "cell_type": "code",
      "execution_count": null,
      "metadata": {
        "id": "sdUxJbYcbPwM"
      },
      "outputs": [],
      "source": []
    },
    {
      "cell_type": "code",
      "execution_count": null,
      "metadata": {
        "id": "Epui8ZHzbPwM"
      },
      "outputs": [],
      "source": []
    },
    {
      "cell_type": "code",
      "execution_count": null,
      "metadata": {
        "id": "cDgeJdIybPwN"
      },
      "outputs": [],
      "source": []
    },
    {
      "cell_type": "code",
      "execution_count": null,
      "metadata": {
        "id": "3hSZYv3tbPwQ"
      },
      "outputs": [],
      "source": []
    },
    {
      "cell_type": "markdown",
      "metadata": {
        "id": "LAnTOuWnbPwR"
      },
      "source": [
        "# EX6) Feature engineering for Time series"
      ]
    },
    {
      "cell_type": "markdown",
      "metadata": {
        "id": "G6xCqufgbPwR"
      },
      "source": [
        "We will create some features for time series data.\n",
        "\n",
        "6.1. Write a function named \"calculate_statistics(x)\" that returns the list of following features:\n",
        "\n",
        "- 25th percentile value\n",
        "\n",
        "- median value\n",
        "\n",
        "- 75th percentile value\n",
        "\n",
        "- min\n",
        "\n",
        "- max\n",
        "\n",
        "- mean\n",
        "\n",
        "- standard deviation\n",
        "\n",
        "\n",
        "6.2. Entropy values can be taken as a mesure of complexity of the signal. Write a function named \"calculate_entropy(x)\" that returns (Shannon) entropy of x\n",
        "\n",
        "\n",
        "6.3. Zero crossing rate has been widely used in domain of speech recognition.\n",
        "Create a function named \"calculate_crossing(x)\" that returns zero crossing rate of x.\n",
        "Zero crossing rate is the number of times a signal crosses y = 0.\n",
        "\n",
        "\n",
        "6.4. Write a function named \"get_features(signal)\" that combines the results of these functions.\n",
        "\n",
        "6.5. Bonus : What is skewness and kurtosis ? Create a function to calculate both."
      ]
    },
    {
      "cell_type": "markdown",
      "metadata": {
        "id": "Sxh7s7jdbPwR"
      },
      "source": [
        "## Solution"
      ]
    },
    {
      "cell_type": "code",
      "execution_count": null,
      "metadata": {
        "id": "HfIHKN46bPwS"
      },
      "outputs": [],
      "source": [
        "def calculate_statistics(x):"
      ]
    },
    {
      "cell_type": "code",
      "execution_count": null,
      "metadata": {
        "id": "4Z0ctjZqbPwS"
      },
      "outputs": [],
      "source": [
        "def calculate_crossing_values(x):"
      ]
    },
    {
      "cell_type": "code",
      "execution_count": null,
      "metadata": {
        "id": "TLkavs27bPwS"
      },
      "outputs": [],
      "source": [
        "def calculate_entropy(x):"
      ]
    },
    {
      "cell_type": "code",
      "execution_count": null,
      "metadata": {
        "id": "qM85jh9VbPwS"
      },
      "outputs": [],
      "source": [
        "def get_features(x):"
      ]
    },
    {
      "cell_type": "markdown",
      "metadata": {
        "id": "ERfIeeaSbPwS"
      },
      "source": [
        "### Test"
      ]
    },
    {
      "cell_type": "code",
      "execution_count": null,
      "metadata": {
        "id": "tf7aNzr9bPwS",
        "outputId": "8ff140e1-7f49-4c9a-caa0-80ee6277ff2c"
      },
      "outputs": [
        {
          "name": "stdout",
          "output_type": "stream",
          "text": [
            "[3.25, 5.5, 7.75, 5.5, 2.8722813232690143, 8.25]\n",
            "[1.0, 1.0, 1.0, 1.0, 0.0, 0.0]\n",
            "[0.14757814633900745, 0.5632132873062605, 0.7154401219942792, 0.46878409556839856, 0.344502752098695, 0.11868214620357491]\n",
            "[-0.6305378432949154, 0.03582516683343728, 0.6447953156706033, 0.016046777500674545, 0.9896442885868115, 0.9793958179324962]\n"
          ]
        }
      ],
      "source": [
        "list_test = [np.array([1,2,3,4,5,6,7,8, 9, 10]), np.array([1]), np.random.rand(5), np.random.normal(0, 1, 1000)]\n",
        "for vector in list_test:\n",
        "    stats = calculate_statistics(vector)\n",
        "    print(stats)\n"
      ]
    },
    {
      "cell_type": "markdown",
      "metadata": {
        "id": "0n568MftbPwS"
      },
      "source": [
        "### Test\n",
        "Generate a normal distribution to check standard deviation, skewness, kurtosis"
      ]
    },
    {
      "cell_type": "code",
      "execution_count": null,
      "metadata": {
        "id": "ahNbfYKwbPwT",
        "outputId": "15ea355a-0ed8-4221-f5e5-d295c7ecf890"
      },
      "outputs": [
        {
          "name": "stdout",
          "output_type": "stream",
          "text": [
            "[4]\n",
            "[502]\n",
            "[0]\n"
          ]
        }
      ],
      "source": [
        "#calculate_crossing_values(x)\n",
        "input_tests = [np.array([1,2,-3,4, 0, 1]), np.random.normal(0, 1, 1000), np.random.uniform(0,1, 100)]\n",
        "for input_test in input_tests:\n",
        "    print(calculate_crossing_values(input_test))"
      ]
    },
    {
      "cell_type": "markdown",
      "metadata": {
        "id": "Lhgeyba6bPwT"
      },
      "source": [
        "# Ex7) Extract features for ECG signals\n",
        "\n",
        "DWT is used to decompose signal into its frequency bands. Now, you will calculate the features for each set of coeffs. These features will be used as input for a classifier.\n",
        "\n",
        "\n",
        "Create a funciton named \"get_features_for_signal(signal)\" that do the following tasks:\n",
        "1. Calculate the coeffs of your signal until levels 3.\n",
        "2. Extract features for each of these coeffs\n",
        "\n",
        "This function returns a list of features which combine all features from each coeff."
      ]
    },
    {
      "cell_type": "markdown",
      "metadata": {
        "id": "AZTf4B4zbPwT"
      },
      "source": [
        "## Solution"
      ]
    },
    {
      "cell_type": "code",
      "execution_count": null,
      "metadata": {
        "id": "QU2lpr-ebPwT"
      },
      "outputs": [],
      "source": []
    },
    {
      "cell_type": "code",
      "execution_count": null,
      "metadata": {
        "id": "osvwvHvsbPwU"
      },
      "outputs": [],
      "source": []
    },
    {
      "cell_type": "markdown",
      "metadata": {
        "id": "viw9__BGbPwU"
      },
      "source": [
        "# Ex8) Continuous Wavelet Transform (CWT) - Scaleogram"
      ]
    },
    {
      "cell_type": "markdown",
      "metadata": {
        "id": "9KrcikBXbPwU"
      },
      "source": [
        "In this exercise, you will learn about Continuous Wavelet Transform. The CWT is used for spectral analysis of signal. The CWT returns two variables: the coefficients and the frequency. CWT coefficients in form of scalogram can be used to serve as image inputs to a deep network for signal classifications.\n",
        "\n",
        "\n",
        "A signal from ARR Database is loaded in the environment and store in the variable \"signal_arr\".\n",
        "\n",
        "1. Using pywt library, calculate the coefficients of the signal \"signal_arr\".\n",
        "\n",
        "Do you have any comments on the coefficients ? What is the shape of the coefficients ?\n",
        "Does it depend on the size of the variable \"scales\" that you choose?\n",
        "\n",
        "The coeffs are complex or real ? Which wavelet function did you choose ?\n",
        "\n",
        "2. Using plt.imshow(), display together the origine signal and the magnitude of the coefficients.\n"
      ]
    },
    {
      "cell_type": "markdown",
      "metadata": {
        "id": "6aks_qtibPwU"
      },
      "source": [
        "## Solution"
      ]
    },
    {
      "cell_type": "code",
      "execution_count": null,
      "metadata": {
        "id": "aWmX5iRPbPwU"
      },
      "outputs": [],
      "source": []
    },
    {
      "cell_type": "code",
      "execution_count": null,
      "metadata": {
        "id": "Kesp7YiXbPwU"
      },
      "outputs": [],
      "source": []
    },
    {
      "cell_type": "code",
      "execution_count": null,
      "metadata": {
        "id": "qVZKVuLFbPwU"
      },
      "outputs": [],
      "source": []
    },
    {
      "cell_type": "markdown",
      "metadata": {
        "id": "ahW0jTDsbPwU"
      },
      "source": [
        "# Ex9) Train a classifier\n",
        "\n",
        "The file 'ecg.csv' existed already in the environment. It was built of 81 records from the three PhysioNet databases. The data were truncated ( thanks to the function \"cut_signal_into_segments\"), resampled ( thanks to the fun \"synchronize_signal\") and passed into the function \"get_features_of_signal\" to get the features.\n",
        "\n",
        "The goal of this exercise is to create a model to classify the signals.\n",
        "\n",
        "1. Using panda, load the file 'ecg.csv' and store it in variable \"df\"\n",
        "\n",
        "2. Label is located in which column? Store it in variable \"y\".\n",
        "\n",
        "3. Normalise \"df\" avec un MinMaxScaler\n",
        "\n",
        "4. Split \"df\" into df_train and df_test\n",
        "\n",
        "5. Import a classifier then trainning the model.\n",
        "\n",
        "6. Calculate the accuracy for df_test"
      ]
    },
    {
      "cell_type": "code",
      "execution_count": null,
      "metadata": {
        "id": "rOthLKTlbPwV"
      },
      "outputs": [],
      "source": []
    },
    {
      "cell_type": "markdown",
      "metadata": {
        "id": "HN0ZyxFJbPwV"
      },
      "source": [
        "# Ex10) Train a CNN model\n",
        "There are some options to classify signals.\n",
        "One is to use DWT and the features to classify ECG signals.  We have done it.\n",
        "Another approach is to use CWT and CNN. To do so, you need:\n",
        "\n",
        "1) Apply the CWT on the dataset\n",
        "\n",
        "2) Transform the data to the right format\n",
        "\n",
        "3) Create a CNN model (with Keras, Pytorch ....)\n",
        "\n",
        "4) Train the model\n",
        "\n",
        "5) Test the accuracy\n",
        "\n",
        "And go!!!"
      ]
    },
    {
      "cell_type": "code",
      "execution_count": null,
      "metadata": {
        "id": "lx92xXDTbPwV"
      },
      "outputs": [],
      "source": []
    },
    {
      "cell_type": "code",
      "execution_count": null,
      "metadata": {
        "id": "xClrlve-bPwV"
      },
      "outputs": [],
      "source": []
    }
  ],
  "metadata": {
    "kernelspec": {
      "display_name": "Python 3",
      "language": "python",
      "name": "python3"
    },
    "language_info": {
      "codemirror_mode": {
        "name": "ipython",
        "version": 3
      },
      "file_extension": ".py",
      "mimetype": "text/x-python",
      "name": "python",
      "nbconvert_exporter": "python",
      "pygments_lexer": "ipython3",
      "version": "3.8.3"
    },
    "colab": {
      "provenance": [],
      "include_colab_link": true
    }
  },
  "nbformat": 4,
  "nbformat_minor": 0
}