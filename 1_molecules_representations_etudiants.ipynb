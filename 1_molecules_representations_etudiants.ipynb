{
  "cells": [
    {
      "cell_type": "markdown",
      "metadata": {
        "colab_type": "text",
        "id": "view-in-github"
      },
      "source": [
        "<a href=\"https://colab.research.google.com/github/Bast-94/ML-BIO/blob/drafts-molecule/1_molecules_representations_etudiants.ipynb\" target=\"_parent\"><img src=\"https://colab.research.google.com/assets/colab-badge.svg\" alt=\"Open In Colab\"/></a>"
      ]
    },
    {
      "cell_type": "code",
      "execution_count": 1,
      "metadata": {
        "colab": {
          "base_uri": "https://localhost:8080/"
        },
        "id": "9qJCFDsxp3wJ",
        "outputId": "b9851f6d-7bcd-473b-e372-7d29ef51765c"
      },
      "outputs": [
        {
          "name": "stdout",
          "output_type": "stream",
          "text": [
            "Defaulting to user installation because normal site-packages is not writeable\n",
            "Collecting rdkit-pypi\n",
            "  Downloading rdkit_pypi-2022.9.5-cp310-cp310-manylinux_2_17_x86_64.manylinux2014_x86_64.whl (29.4 MB)\n",
            "\u001b[2K     \u001b[90m━━━━━━━━━━━━━━━━━━━━━━━━━━━━━━━━━━━━━━━━\u001b[0m \u001b[32m29.4/29.4 MB\u001b[0m \u001b[31m4.6 MB/s\u001b[0m eta \u001b[36m0:00:00\u001b[0m:00:01\u001b[0m00:01\u001b[0m\n",
            "\u001b[?25hRequirement already satisfied: numpy in /home/bastien/.local/lib/python3.10/site-packages (from rdkit-pypi) (1.23.5)\n",
            "Requirement already satisfied: Pillow in /usr/lib/python3/dist-packages (from rdkit-pypi) (9.0.1)\n",
            "\u001b[33mDEPRECATION: distro-info 1.1build1 has a non-standard version number. pip 23.3 will enforce this behaviour change. A possible replacement is to upgrade to a newer version of distro-info or contact the author to suggest that they release a version with a conforming version number. Discussion can be found at https://github.com/pypa/pip/issues/12063\u001b[0m\u001b[33m\n",
            "\u001b[0m\u001b[33mDEPRECATION: python-debian 0.1.43ubuntu1 has a non-standard version number. pip 23.3 will enforce this behaviour change. A possible replacement is to upgrade to a newer version of python-debian or contact the author to suggest that they release a version with a conforming version number. Discussion can be found at https://github.com/pypa/pip/issues/12063\u001b[0m\u001b[33m\n",
            "\u001b[0mInstalling collected packages: rdkit-pypi\n",
            "Successfully installed rdkit-pypi-2022.9.5\n"
          ]
        }
      ],
      "source": [
        "# Install rdkit\n",
        "!pip install rdkit-pypi"
      ]
    },
    {
      "cell_type": "markdown",
      "metadata": {
        "id": "TYs-WClCqSsy"
      },
      "source": [
        "## Ex 1. Read molecules from SMILES\n",
        "\n",
        "SMILES (Simplified Molecular-Input Line-Entry System) is a popular method for specifying molecules with text string. The RDkit library provides utilities to read molecules from SMILES.\n",
        "\n",
        "\n",
        "Paracetamol (Acetaminophen) is a commonly used medicine that can help treat pain and reduce a high temperature. It's given by the chemical formula $ C_8H_9N O_2$ and its SMILES is \"CC(=O)NC1=CC=C(O)C=C1\".\n",
        "\n",
        "\n",
        "1. Create the paracetamol molecule from its SMILES using the rdkit.Chem.MolFromSmiles class.\n",
        "\n",
        "\n",
        "2. Visualize its structure (it's sufficient to print the paracetamol molecule or to use rdkit.Chem.Draw.MolToImage())\n",
        "\n",
        "\n",
        "3. Print out the number of atoms. Did you get 11 ? It should be 20 atoms ? Why ?\n",
        "\n",
        "\n",
        "\n",
        "4. Print out the list of atoms.\n",
        "\n",
        "\n",
        "5. Find the number of bonds.\n",
        "\n"
      ]
    },
    {
      "cell_type": "markdown",
      "metadata": {
        "id": "OlsIDKuWEyVq"
      },
      "source": [
        "*1. Create the paracetamol molecule from its SMILES using the rdkit.Chem.MolFromSmiles class.*"
      ]
    },
    {
      "cell_type": "code",
      "execution_count": 2,
      "metadata": {
        "id": "ccbbFmLOqDJV"
      },
      "outputs": [],
      "source": [
        "from rdkit.Chem import MolFromSmiles\n",
        "from rdkit.Chem.Draw import MolToImage\n",
        "import matplotlib.pyplot as plt\n",
        "from rdkit import Chem"
      ]
    },
    {
      "cell_type": "code",
      "execution_count": 3,
      "metadata": {
        "id": "8snxocdqsKNJ"
      },
      "outputs": [],
      "source": [
        "paracetamol = MolFromSmiles(\"CC(=O)NC1=CC=C(O)C=C1\")"
      ]
    },
    {
      "cell_type": "markdown",
      "metadata": {
        "id": "QjIVRg9-E42s"
      },
      "source": [
        "*2. Visualize its structure*"
      ]
    },
    {
      "cell_type": "code",
      "execution_count": 6,
      "metadata": {
        "colab": {
          "base_uri": "https://localhost:8080/",
          "height": 424
        },
        "id": "3yiWFSgdsk0j",
        "outputId": "05615a48-c1f1-4000-8776-fc9afd876f51"
      },
      "outputs": [
        {
          "data": {
            "image/png": "[encoded data removed]",
            "text/plain": [
              "<Figure size 432x288 with 1 Axes>"
            ]
          },
          "metadata": {},
          "output_type": "display_data"
        }
      ],
      "source": [
        "paracetamol_img = MolToImage(paracetamol)\n",
        "fig, ax = plt.subplots()\n",
        "ax.set_xticks([])\n",
        "ax.set_yticks([])\n",
        "ax.imshow(paracetamol_img)\n",
        "plt.show()"
      ]
    },
    {
      "cell_type": "markdown",
      "metadata": {
        "id": "B1ojELv4FXIe"
      },
      "source": [
        "*3. Print out the number of atoms. Did you get 11 ? It should be 20 atoms ? Why ?*"
      ]
    },
    {
      "cell_type": "markdown",
      "metadata": {
        "id": "T64LKW5PHUw1"
      },
      "source": [
        "Vérifions avec la méthode `GetNumAtoms`"
      ]
    },
    {
      "cell_type": "code",
      "execution_count": 8,
      "metadata": {
        "colab": {
          "base_uri": "https://localhost:8080/"
        },
        "id": "4rN88u9dtueQ",
        "outputId": "c9638269-3b15-4447-96e4-e58bc92111cb"
      },
      "outputs": [
        {
          "name": "stdout",
          "output_type": "stream",
          "text": [
            "Number of atoms:  11\n"
          ]
        }
      ],
      "source": [
        "number_of_atoms = paracetamol.GetNumAtoms()\n",
        "print(\"Number of atoms: \", number_of_atoms)"
      ]
    },
    {
      "cell_type": "markdown",
      "metadata": {
        "id": "GLKIb1XIHcbh"
      },
      "source": [
        "Nous obtenous effectivement 11, nous pouvons supposer que `GetNumAtoms` ommet volontairement les atomes d'hydrogène. Regardons la liste des atomes du paracétamol avec la méthode `GetAtoms`."
      ]
    },
    {
      "cell_type": "markdown",
      "metadata": {
        "id": "dtcBvX-vI2OK"
      },
      "source": [
        "*4. Print out the list of atoms.*"
      ]
    },
    {
      "cell_type": "code",
      "execution_count": 13,
      "metadata": {
        "colab": {
          "base_uri": "https://localhost:8080/"
        },
        "id": "ZFMgmHDlGtlL",
        "outputId": "643672bd-877d-4079-fb39-1e79adfc86e0"
      },
      "outputs": [
        {
          "name": "stdout",
          "output_type": "stream",
          "text": [
            "C C O N C C C C O C C "
          ]
        }
      ],
      "source": [
        "for atom in paracetamol.GetAtoms():\n",
        "    print(atom.GetSymbol(), end=\" \")"
      ]
    },
    {
      "cell_type": "markdown",
      "metadata": {
        "id": "SxkB4mbTIhPD"
      },
      "source": [
        "On remarque effectivement que les atomes d'hydrogène ne sont pas présents, ce qui justifie le fait que seul 11 atomes soient comptés."
      ]
    },
    {
      "cell_type": "markdown",
      "metadata": {
        "id": "ISq4QqZ9JStW"
      },
      "source": [
        "*5. Find the number of bonds.*"
      ]
    },
    {
      "cell_type": "code",
      "execution_count": 22,
      "metadata": {
        "colab": {
          "base_uri": "https://localhost:8080/"
        },
        "id": "DOJO6xIKLI-C",
        "outputId": "069ba22b-9f22-4bc1-a90d-269c5ad6283c"
      },
      "outputs": [
        {
          "name": "stdout",
          "output_type": "stream",
          "text": [
            "Il y a 11 liaisons\n"
          ]
        }
      ],
      "source": [
        "bonds_number = paracetamol.GetNumBonds()\n",
        "print(f\"Il y a {bonds_number} liaisons\")"
      ]
    },
    {
      "cell_type": "markdown",
      "metadata": {
        "id": "5ch4vabFuReu"
      },
      "source": [
        "## Ex 2 Read data from chemical file format\n",
        "\n",
        "Apart SMILES, .SDF/ .Mol are also the common formats to save molecules. RDKit provides also functionalities to read these files.\n",
        "\n",
        "\n",
        "Morphine is an opioid agonist used for the relief of moderate to severe acute and chronic pain. The chemical information of this drug can be found at\n",
        "\"https://go.drugbank.com/structures/small_molecule_drugs/DB00295.sdf\".\n",
        "\n",
        "\n",
        "**1. Download this file and save it in a folder.**"
      ]
    },
    {
      "cell_type": "code",
      "execution_count": 20,
      "metadata": {},
      "outputs": [
        {
          "name": "stdout",
          "output_type": "stream",
          "text": [
            "File downloaded\n"
          ]
        }
      ],
      "source": [
        "! wget https://go.drugbank.com/structures/small_molecule_drugs/DB00295.sdf -o log.txt -O DB00295.sdf\n",
        "! test -f DB00295.sdf && echo \"File downloaded\" || echo \"File not downloaded\"\n",
        "! rm log.txt"
      ]
    },
    {
      "cell_type": "markdown",
      "metadata": {},
      "source": [
        "**2. Read the morphine molecule from the file that you've downloaded using \"rdkit.Chem.SDMolSupplier\"**"
      ]
    },
    {
      "cell_type": "markdown",
      "metadata": {},
      "source": [
        "**3. With the help of rdkit.Chem.AllChem.GetMorganFingerprintAsBitVect, compute its fingerprint as a bit vector.**"
      ]
    },
    {
      "cell_type": "code",
      "execution_count": null,
      "metadata": {
        "id": "9VLF599Yv5V1"
      },
      "outputs": [],
      "source": []
    },
    {
      "cell_type": "code",
      "execution_count": null,
      "metadata": {
        "id": "MfzZWrz82ox4"
      },
      "outputs": [],
      "source": []
    },
    {
      "cell_type": "code",
      "execution_count": null,
      "metadata": {
        "id": "Tev1bWf7uEod"
      },
      "outputs": [],
      "source": []
    },
    {
      "cell_type": "code",
      "execution_count": null,
      "metadata": {
        "id": "9Cb8JDUe0pOw"
      },
      "outputs": [],
      "source": []
    },
    {
      "cell_type": "markdown",
      "metadata": {
        "id": "gljbmF6p3RX8"
      },
      "source": [
        "## EX3. Fingerprints\n",
        "\n",
        "\n",
        "A chemical structure can be characterized by a set of numerical values known as molecular fingerprints. They may be 2D Fragment-based fingerprints presented by bit arrays of 0s and 1s wherein each bit position indicates the presence or absence of structural fragments.\n",
        "\n",
        "\n",
        "The RDKit has a variety of built-in functionality for generating molecular fingerprints and then using them to calculate molecular similarity. In this exercise, we will generate the fingerprints for parcetamol and aspirin that are two popular drugs used for pains.\n",
        "\n",
        "\n",
        "\n",
        "1. Compute the fingerprint of the paracetamol as bit vector by using the rdkit.AllChem.GetMorganFingerprintAsBitVectCompute Class. Convert it to a numpy vector. Known that Paracetamol's SMILES is \"\"CC(=O)OC1=CC=CC=C1C(O)=O\". Choose the number of bits nBits= 1024. Find the elements that are nonzero of the vector.\n",
        "\n",
        "2. Do the same thing for the aspirin. Aspirin's SMILES is \"CC(=O)NC1=CC=C(O)C=C1\".\n",
        "\n",
        "\n",
        "\n",
        "3. Using rdkit.DataStructs.DiceSimilarity(), compute the DiceSimilarity between the fingerprints of the paracetamol and the aspirin."
      ]
    },
    {
      "cell_type": "code",
      "execution_count": null,
      "metadata": {
        "id": "8PALjOz5232Z"
      },
      "outputs": [],
      "source": []
    },
    {
      "cell_type": "code",
      "execution_count": null,
      "metadata": {
        "id": "5PdK21vk3akj"
      },
      "outputs": [],
      "source": []
    },
    {
      "cell_type": "code",
      "execution_count": null,
      "metadata": {
        "id": "FWUW82xM3de5"
      },
      "outputs": [],
      "source": []
    },
    {
      "cell_type": "code",
      "execution_count": null,
      "metadata": {
        "id": "Hip2WFdc3gEP"
      },
      "outputs": [],
      "source": []
    },
    {
      "cell_type": "code",
      "execution_count": null,
      "metadata": {
        "id": "fxnxfRjq3jDa"
      },
      "outputs": [],
      "source": []
    },
    {
      "cell_type": "markdown",
      "metadata": {
        "id": "GZXsjZGw3ofC"
      },
      "source": [
        "## EX 4: Descriptors\n",
        "\n",
        "Molecules are also described by a set of physiochemical descriptors. They should be the log partition coefficient, the polar surface area ... that describe the molecule's structure.\n",
        "\n",
        "\n",
        "RDKit provides utilities that allow us to compute descriptor of molecules.\n",
        "Using the rdkit.ML.Descriptors.MoleculeDescriptors.MolecularDescriptorCalculator class, compute the descriptor for paracetamol molecule from SMILES string. Note that SMILES string for paracetamol is \"CC(=O)NC1=CC=C(O)C=C1\"\n",
        "\n"
      ]
    },
    {
      "cell_type": "code",
      "execution_count": null,
      "metadata": {
        "id": "vQcACF5K3l1y"
      },
      "outputs": [],
      "source": []
    },
    {
      "cell_type": "code",
      "execution_count": null,
      "metadata": {
        "id": "uKfd9F_93urZ"
      },
      "outputs": [],
      "source": []
    },
    {
      "cell_type": "markdown",
      "metadata": {
        "id": "SvHtYagP31vo"
      },
      "source": [
        "## Ex5: SMART\n",
        "\n",
        "In many commonly used applications, we need to determine whether atoms in a molecule match a particular pattern. It can be used for filtering structures or identifying substructures that are associated with toxicological problem.\n",
        "\n",
        "SMART us an extension of the SMILES language that can be used to create queries.\n",
        "\n",
        "1. Find molecules in the following list named \"smiles_list\" that contain the \"CCC\" pattern (you can use the GetSubstructMatch class).\n",
        "\n",
        "\n",
        "2. Highlight the pattern \"CCC\" in these molecules.\n",
        "\n",
        "\n",
        "3. Do the same thing ex 1 but for the pattern \"C(=O)N\"."
      ]
    },
    {
      "cell_type": "code",
      "execution_count": null,
      "metadata": {
        "id": "mXqKwAO03xQi"
      },
      "outputs": [],
      "source": []
    },
    {
      "cell_type": "code",
      "execution_count": null,
      "metadata": {
        "id": "HAd-F-3d36WA"
      },
      "outputs": [],
      "source": []
    },
    {
      "cell_type": "code",
      "execution_count": null,
      "metadata": {
        "id": "kLR_cPK739DY"
      },
      "outputs": [],
      "source": []
    },
    {
      "cell_type": "markdown",
      "metadata": {
        "id": "UxbRPmkS4LSq"
      },
      "source": [
        "## Ex6: Machine learning with RDkit - Predict solubility\n",
        "\n",
        "In this exercise, we will use machine learning to predict solubility of molecules. For this purpose, we will borrow a dataset from rdkit that is originated from the Huuskonen dataset. We will try to predict Aqueous Solubility for molecules that is known as \"logS\".\n",
        "\n",
        "\n",
        "This exercise is divided into 3 parts: Preparing a dataset, training a model and preparing dataset for prediction and applying a predictive model.\n",
        "\n"
      ]
    },
    {
      "cell_type": "markdown",
      "metadata": {
        "id": "FpqVGPg_4QaQ"
      },
      "source": [
        "## EX6.I Preparing dataset\n",
        "\n",
        "Preparing dataset requires a few steps:\n",
        "\n",
        "\n",
        "1. Download file from \"https://raw.githubusercontent.com/rdkit/rdkit/master/Docs/Book/data/solubility.train.sdf\".\n",
        "\n",
        "\n",
        "2. With the help of rdkit.Chem.SDMolSupplier, get list of molecules contained in this file. You should call this list as **molecule_list**. The option **removeHs=False** should be chosen.\n",
        "\n",
        "\n",
        "3. Write a function named **calculate_descriptors(mol)** that allows us to calculate descriptors of a molecule. This function takes a Rdkit molecule as input and returns an array vector of descriptors.\n",
        "\n",
        "\n",
        "4. Apply the function **caluclate_descriptors** to the list of molecules **molecule_list** and store the result in a dataframe named **df**. Look at few rows of **df** to see whether the descriptors are calculated.\n",
        "\n",
        "\n",
        "5. For each molecule from this dataset, we can get the aqueous solubility (logS) via attribute **getProp('SOL')**. Create a list that contains the aqueous solubility of all molecules from the **molecule_list** list. You should call this list by **labels**. Remember to convert these values to float format.\n",
        "\n",
        "\n",
        "6. Plot the histogram of the \"labels\" list to see the distribution of the solubility of molecules. Do you have some comments about the aqueous solubility of molecules ?\n",
        "\n"
      ]
    },
    {
      "cell_type": "code",
      "execution_count": null,
      "metadata": {
        "colab": {
          "base_uri": "https://localhost:8080/"
        },
        "id": "uAuDoU7u3_k4",
        "outputId": "20a2c148-5734-4443-a665-ada416a12c62"
      },
      "outputs": [
        {
          "name": "stdout",
          "output_type": "stream",
          "text": [
            "--2023-08-20 21:02:05--  https://raw.githubusercontent.com/rdkit/rdkit/master/Docs/Book/data/solubility.train.sdf\n",
            "Resolving raw.githubusercontent.com (raw.githubusercontent.com)... 185.199.108.133, 185.199.111.133, 185.199.109.133, ...\n",
            "Connecting to raw.githubusercontent.com (raw.githubusercontent.com)|185.199.108.133|:443... connected.\n",
            "HTTP request sent, awaiting response... 200 OK\n",
            "Length: 1376487 (1.3M) [text/plain]\n",
            "Saving to: ‘solubility.train.sdf’\n",
            "\n",
            "solubility.train.sd 100%[===================>]   1.31M  --.-KB/s    in 0.06s   \n",
            "\n",
            "2023-08-20 21:02:05 (21.2 MB/s) - ‘solubility.train.sdf’ saved [1376487/1376487]\n",
            "\n"
          ]
        }
      ],
      "source": [
        "!wget https://raw.githubusercontent.com/rdkit/rdkit/master/Docs/Book/data/solubility.train.sdf"
      ]
    },
    {
      "cell_type": "code",
      "execution_count": null,
      "metadata": {
        "id": "IVzIr6ax4lzk"
      },
      "outputs": [],
      "source": []
    },
    {
      "cell_type": "code",
      "execution_count": null,
      "metadata": {
        "id": "lnKz9r0a4xQo"
      },
      "outputs": [],
      "source": []
    },
    {
      "cell_type": "code",
      "execution_count": null,
      "metadata": {
        "id": "v7vbkPlh46Uj"
      },
      "outputs": [],
      "source": []
    },
    {
      "cell_type": "code",
      "execution_count": null,
      "metadata": {
        "id": "a9s7O4ki4_dZ"
      },
      "outputs": [],
      "source": []
    },
    {
      "cell_type": "code",
      "execution_count": null,
      "metadata": {
        "id": "38SxXEj75DG6"
      },
      "outputs": [],
      "source": []
    },
    {
      "cell_type": "markdown",
      "metadata": {
        "id": "KRtVHEjH5M9m"
      },
      "source": [
        "## Ex6.II Feature Engineering and Training a model of regression.\n",
        "\n",
        "Now, we have the **df** dataframe that contains the descriptors for molecules and the **labels** list that contains the solvant property of molecules.\n",
        "\n",
        "1. Check the dataframe **df** to see whether it contains NaN values. How many row contained NaN values are there in the dataframe **df** ? Remove these rows from  **df** and **labels**.\n",
        "\n",
        "\n",
        "2. Apply the MinMaxScaler to the dataframe **df** to normalize the data.\n",
        "\n",
        "\n",
        "3. Construct and train a regression model.\n",
        "\n",
        "\n",
        "4. Calculate the square root error for the dataset"
      ]
    },
    {
      "cell_type": "code",
      "execution_count": null,
      "metadata": {
        "id": "gWvfR-8x5H84"
      },
      "outputs": [],
      "source": []
    },
    {
      "cell_type": "code",
      "execution_count": null,
      "metadata": {
        "id": "GIogC40t5Tu8"
      },
      "outputs": [],
      "source": []
    },
    {
      "cell_type": "code",
      "execution_count": null,
      "metadata": {
        "id": "rdzWDho25bAs"
      },
      "outputs": [],
      "source": []
    },
    {
      "cell_type": "code",
      "execution_count": null,
      "metadata": {
        "id": "dtonURI45dvL"
      },
      "outputs": [],
      "source": []
    },
    {
      "cell_type": "code",
      "execution_count": null,
      "metadata": {
        "id": "6IN4BUGK5mjK"
      },
      "outputs": [],
      "source": []
    },
    {
      "cell_type": "code",
      "execution_count": null,
      "metadata": {
        "id": "WJR3jwY45nZ5"
      },
      "outputs": [],
      "source": []
    },
    {
      "cell_type": "code",
      "execution_count": null,
      "metadata": {
        "id": "y8WyXMy95pzF"
      },
      "outputs": [],
      "source": []
    },
    {
      "cell_type": "markdown",
      "metadata": {
        "id": "kESW-Pem5zPX"
      },
      "source": [
        "## Ex6.III Prepare data for test  and test model\n",
        "\n",
        "\n",
        "1. Download file from \"https://github.com/rdkit/rdkit/blob/master/Docs/Book/data/solubility.test.sdf\".\n",
        "\n",
        "2. Read molecules from this file and store them in a list named **list_molecule_test**.\n",
        "\n",
        "\n",
        "3. Take a molecule from the **list_molecule_test** and then calculate its descriptions thank to the **calculate_descriptors(mol)** function that you've coded above.\n",
        "\n",
        "\n",
        "4. Apply **minmaxscaler** to these descriptors. Note that **minmaxscaler**  is one that you've created at Ex6.II.\n",
        "\n",
        "\n",
        "5. Use the model that you've trained to predict the aqueous solubility (logS) of the molecule. Compare to the real logS value of the molecule.\n",
        "\n",
        "6. (Optional) Calculate the mean square root error of the model for this dataset.\n",
        "\n",
        "\n",
        "\n",
        "Note: If there exists problem of reading the file solubility.test.sdf as\n",
        "\"RDKit ERROR: [09:28:36] ERROR: moving to the beginning of the next molecule\n",
        "RDKit ERROR: [09:32:48] ERROR: Counts line too short: '' on line4\"\n",
        "so, go to the url, click \"raw\" and save this file by hand. The error will be gone away\n"
      ]
    },
    {
      "cell_type": "code",
      "execution_count": null,
      "metadata": {
        "colab": {
          "base_uri": "https://localhost:8080/"
        },
        "id": "SMo-oKP-Rhv-",
        "outputId": "57380b07-7444-4b56-b614-81dec92bcf35"
      },
      "outputs": [
        {
          "name": "stdout",
          "output_type": "stream",
          "text": [
            "--2023-08-20 21:06:07--  https://github.com/rdkit/rdkit/blob/master/Docs/Book/data/solubility.test.sdf\n",
            "Resolving github.com (github.com)... 140.82.114.4\n",
            "Connecting to github.com (github.com)|140.82.114.4|:443... connected.\n",
            "HTTP request sent, awaiting response... 200 OK\n",
            "Length: 327929 (320K) [text/plain]\n",
            "Saving to: ‘solubility.test.sdf’\n",
            "\n",
            "solubility.test.sdf 100%[===================>] 320.24K  --.-KB/s    in 0.1s    \n",
            "\n",
            "2023-08-20 21:06:07 (3.00 MB/s) - ‘solubility.test.sdf’ saved [327929/327929]\n",
            "\n"
          ]
        }
      ],
      "source": [
        "# 1. Download the file\n",
        "!wget https://github.com/rdkit/rdkit/blob/master/Docs/Book/data/solubility.test.sdf"
      ]
    },
    {
      "cell_type": "code",
      "execution_count": null,
      "metadata": {
        "id": "NPY8dEJs5v1x"
      },
      "outputs": [],
      "source": []
    },
    {
      "cell_type": "code",
      "execution_count": null,
      "metadata": {
        "id": "nzS4GfEAxzUQ"
      },
      "outputs": [],
      "source": []
    },
    {
      "cell_type": "code",
      "execution_count": null,
      "metadata": {
        "id": "Ni3z7j7G561j"
      },
      "outputs": [],
      "source": []
    },
    {
      "cell_type": "code",
      "execution_count": null,
      "metadata": {
        "id": "Ed3NApbv5_Yp"
      },
      "outputs": [],
      "source": []
    },
    {
      "cell_type": "code",
      "execution_count": null,
      "metadata": {
        "id": "vauBuC-R66GF"
      },
      "outputs": [],
      "source": []
    }
  ],
  "metadata": {
    "colab": {
      "include_colab_link": true,
      "provenance": []
    },
    "kernelspec": {
      "display_name": "Python 3",
      "name": "python3"
    },
    "language_info": {
      "codemirror_mode": {
        "name": "ipython",
        "version": 3
      },
      "file_extension": ".py",
      "mimetype": "text/x-python",
      "name": "python",
      "nbconvert_exporter": "python",
      "pygments_lexer": "ipython3",
      "version": "3.10.6"
    }
  },
  "nbformat": 4,
  "nbformat_minor": 0
}
