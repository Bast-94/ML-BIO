{
  "cells": [
    {
      "cell_type": "markdown",
      "metadata": {
        "colab_type": "text",
        "id": "view-in-github"
      },
      "source": [
        "<a href=\"https://colab.research.google.com/github/Bast-94/ML-BIO/blob/drafts-molecule/1_molecules_representations_etudiants.ipynb\" target=\"_parent\"><img src=\"https://colab.research.google.com/assets/colab-badge.svg\" alt=\"Open In Colab\"/></a>"
      ]
    },
    {
      "cell_type": "code",
      "execution_count": 1,
      "metadata": {
        "colab": {
          "base_uri": "https://localhost:8080/"
        },
        "id": "9qJCFDsxp3wJ",
        "outputId": "b9851f6d-7bcd-473b-e372-7d29ef51765c"
      },
      "outputs": [
        {
          "name": "stdout",
          "output_type": "stream",
          "text": [
            "Defaulting to user installation because normal site-packages is not writeable\n",
            "Requirement already satisfied: rdkit-pypi in /home/bastien/.local/lib/python3.10/site-packages (2022.9.5)\n",
            "Requirement already satisfied: numpy in /home/bastien/.local/lib/python3.10/site-packages (from rdkit-pypi) (1.23.5)\n",
            "Requirement already satisfied: Pillow in /usr/lib/python3/dist-packages (from rdkit-pypi) (9.0.1)\n",
            "\u001b[33mDEPRECATION: distro-info 1.1build1 has a non-standard version number. pip 23.3 will enforce this behaviour change. A possible replacement is to upgrade to a newer version of distro-info or contact the author to suggest that they release a version with a conforming version number. Discussion can be found at https://github.com/pypa/pip/issues/12063\u001b[0m\u001b[33m\n",
            "\u001b[0m\u001b[33mDEPRECATION: python-debian 0.1.43ubuntu1 has a non-standard version number. pip 23.3 will enforce this behaviour change. A possible replacement is to upgrade to a newer version of python-debian or contact the author to suggest that they release a version with a conforming version number. Discussion can be found at https://github.com/pypa/pip/issues/12063\u001b[0m\u001b[33m\n",
            "\u001b[0m"
          ]
        }
      ],
      "source": [
        "# Install rdkit\n",
        "!pip install rdkit-pypi"
      ]
    },
    {
      "cell_type": "code",
      "execution_count": null,
      "metadata": {},
      "outputs": [],
      "source": []
    },
    {
      "cell_type": "markdown",
      "metadata": {
        "id": "TYs-WClCqSsy"
      },
      "source": [
        "## Ex 1. Read molecules from SMILES\n",
        "\n",
        "SMILES (Simplified Molecular-Input Line-Entry System) is a popular method for specifying molecules with text string. The RDkit library provides utilities to read molecules from SMILES.\n",
        "\n",
        "\n",
        "Paracetamol (Acetaminophen) is a commonly used medicine that can help treat pain and reduce a high temperature. It's given by the chemical formula $ C_8H_9N O_2$ and its SMILES is \"CC(=O)NC1=CC=C(O)C=C1\".\n",
        "\n",
        "\n",
        "1. Create the paracetamol molecule from its SMILES using the rdkit.Chem.MolFromSmiles class.\n",
        "\n",
        "\n",
        "2. Visualize its structure (it's sufficient to print the paracetamol molecule or to use rdkit.Chem.Draw.MolToImage())\n",
        "\n",
        "\n",
        "3. Print out the number of atoms. Did you get 11 ? It should be 20 atoms ? Why ?\n",
        "\n",
        "\n",
        "\n",
        "4. Print out the list of atoms.\n",
        "\n",
        "\n",
        "5. Find the number of bonds.\n",
        "\n"
      ]
    },
    {
      "cell_type": "markdown",
      "metadata": {
        "id": "OlsIDKuWEyVq"
      },
      "source": [
        "*1. Create the paracetamol molecule from its SMILES using the rdkit.Chem.MolFromSmiles class.*"
      ]
    },
    {
      "cell_type": "code",
      "execution_count": 2,
      "metadata": {
        "id": "ccbbFmLOqDJV"
      },
      "outputs": [],
      "source": [
        "from rdkit.Chem import MolFromSmiles\n",
        "from rdkit.Chem.Draw import MolToImage\n",
        "import matplotlib.pyplot as plt\n",
        "from rdkit import Chem\n",
        "from rdkit.ML.Descriptors.MoleculeDescriptors import MolecularDescriptorCalculator\n",
        "from rdkit.Chem import Descriptors\n",
        "import pandas as pd\n",
        "from rdkit.Chem import SDMolSupplier\n",
        "from rdkit.Chem.AllChem import GetMorganFingerprintAsBitVect\n",
        "import numpy as np\n",
        "\n",
        "from rdkit.Chem.Draw import IPythonConsole\n",
        "from rdkit.Chem import rdDepictor\n",
        "from rdkit.Chem.Draw import rdMolDraw2D\n",
        "from IPython.display import SVG"
      ]
    },
    {
      "cell_type": "code",
      "execution_count": 3,
      "metadata": {
        "id": "8snxocdqsKNJ"
      },
      "outputs": [],
      "source": [
        "paracetamol = MolFromSmiles(\"CC(=O)NC1=CC=C(O)C=C1\")"
      ]
    },
    {
      "cell_type": "markdown",
      "metadata": {
        "id": "QjIVRg9-E42s"
      },
      "source": [
        "*2. Visualize its structure*"
      ]
    },
    {
      "cell_type": "code",
      "execution_count": 4,
      "metadata": {
        "colab": {
          "base_uri": "https://localhost:8080/",
          "height": 424
        },
        "id": "3yiWFSgdsk0j",
        "outputId": "05615a48-c1f1-4000-8776-fc9afd876f51"
      },
      "outputs": [
        {
          "data": {
            "image/png": "[encoded data removed]",
            "text/plain": [
              "<Figure size 432x288 with 1 Axes>"
            ]
          },
          "metadata": {},
          "output_type": "display_data"
        }
      ],
      "source": [
        "paracetamol_img = MolToImage(paracetamol)\n",
        "fig, ax = plt.subplots()\n",
        "ax.set_xticks([])\n",
        "ax.set_yticks([])\n",
        "ax.imshow(paracetamol_img)\n",
        "plt.show()"
      ]
    },
    {
      "cell_type": "markdown",
      "metadata": {
        "id": "B1ojELv4FXIe"
      },
      "source": [
        "*3. Print out the number of atoms. Did you get 11 ? It should be 20 atoms ? Why ?*"
      ]
    },
    {
      "cell_type": "markdown",
      "metadata": {
        "id": "T64LKW5PHUw1"
      },
      "source": [
        "Vérifions avec la méthode `GetNumAtoms`"
      ]
    },
    {
      "cell_type": "code",
      "execution_count": 5,
      "metadata": {
        "colab": {
          "base_uri": "https://localhost:8080/"
        },
        "id": "4rN88u9dtueQ",
        "outputId": "c9638269-3b15-4447-96e4-e58bc92111cb"
      },
      "outputs": [
        {
          "name": "stdout",
          "output_type": "stream",
          "text": [
            "Number of atoms:  11\n"
          ]
        }
      ],
      "source": [
        "number_of_atoms = paracetamol.GetNumAtoms()\n",
        "print(\"Number of atoms: \", number_of_atoms)"
      ]
    },
    {
      "cell_type": "markdown",
      "metadata": {
        "id": "GLKIb1XIHcbh"
      },
      "source": [
        "Nous obtenous effectivement 11, nous pouvons supposer que `GetNumAtoms` ommet volontairement les atomes d'hydrogène. Regardons la liste des atomes du paracétamol avec la méthode `GetAtoms`."
      ]
    },
    {
      "cell_type": "markdown",
      "metadata": {
        "id": "dtcBvX-vI2OK"
      },
      "source": [
        "*4. Print out the list of atoms.*"
      ]
    },
    {
      "cell_type": "code",
      "execution_count": 6,
      "metadata": {
        "colab": {
          "base_uri": "https://localhost:8080/"
        },
        "id": "ZFMgmHDlGtlL",
        "outputId": "643672bd-877d-4079-fb39-1e79adfc86e0"
      },
      "outputs": [
        {
          "name": "stdout",
          "output_type": "stream",
          "text": [
            "C C O N C C C C O C C "
          ]
        }
      ],
      "source": [
        "for atom in paracetamol.GetAtoms():\n",
        "    print(atom.GetSymbol(), end=\" \")"
      ]
    },
    {
      "cell_type": "markdown",
      "metadata": {
        "id": "SxkB4mbTIhPD"
      },
      "source": [
        "On remarque effectivement que les atomes d'hydrogène ne sont pas présents, ce qui justifie le fait que seul 11 atomes soient comptés."
      ]
    },
    {
      "cell_type": "markdown",
      "metadata": {
        "id": "ISq4QqZ9JStW"
      },
      "source": [
        "*5. Find the number of bonds.*"
      ]
    },
    {
      "cell_type": "code",
      "execution_count": 7,
      "metadata": {
        "colab": {
          "base_uri": "https://localhost:8080/"
        },
        "id": "DOJO6xIKLI-C",
        "outputId": "069ba22b-9f22-4bc1-a90d-269c5ad6283c"
      },
      "outputs": [
        {
          "name": "stdout",
          "output_type": "stream",
          "text": [
            "Il y a 11 liaisons\n"
          ]
        }
      ],
      "source": [
        "bonds_number = paracetamol.GetNumBonds()\n",
        "print(f\"Il y a {bonds_number} liaisons\")"
      ]
    },
    {
      "cell_type": "markdown",
      "metadata": {
        "id": "5ch4vabFuReu"
      },
      "source": [
        "## Ex 2 Read data from chemical file format\n",
        "\n",
        "Apart SMILES, .SDF/ .Mol are also the common formats to save molecules. RDKit provides also functionalities to read these files.\n",
        "\n",
        "\n",
        "Morphine is an opioid agonist used for the relief of moderate to severe acute and chronic pain. The chemical information of this drug can be found at\n",
        "\"https://go.drugbank.com/structures/small_molecule_drugs/DB00295.sdf\".\n",
        "\n",
        "\n",
        "**1. Download this file and save it in a folder.**"
      ]
    },
    {
      "cell_type": "code",
      "execution_count": 8,
      "metadata": {},
      "outputs": [
        {
          "name": "stdout",
          "output_type": "stream",
          "text": [
            "File downloaded\n"
          ]
        }
      ],
      "source": [
        "! wget https://go.drugbank.com/structures/small_molecule_drugs/DB00295.sdf -o log.txt -O DB00295.sdf\n",
        "! test -f DB00295.sdf && echo \"File downloaded\" || echo \"File not downloaded\"\n",
        "! rm log.txt"
      ]
    },
    {
      "cell_type": "markdown",
      "metadata": {},
      "source": [
        "**2. Read the morphine molecule from the file that you've downloaded using \"rdkit.Chem.SDMolSupplier\"**"
      ]
    },
    {
      "cell_type": "code",
      "execution_count": 9,
      "metadata": {},
      "outputs": [
        {
          "data": {
            "image/png": "[encoded data removed]",
            "text/plain": [
              "<Figure size 360x360 with 1 Axes>"
            ]
          },
          "metadata": {},
          "output_type": "display_data"
        }
      ],
      "source": [
        "suppl = SDMolSupplier(\"DB00295.sdf\")\n",
        "fig = plt.figure(figsize=(len(suppl) * 5, 5))\n",
        "fig.set_facecolor(\"white\")\n",
        "for i, mol in enumerate(suppl):\n",
        "    ax = fig.add_subplot(1, len(suppl), i + 1)\n",
        "    molimg = MolToImage(mol)\n",
        "    ax.set_xticks([])\n",
        "    ax.set_yticks([])\n",
        "    ax.imshow(molimg)\n",
        "    ax.set_title(mol.GetProp(\"GENERIC_NAME\"))\n",
        "    plt.show()"
      ]
    },
    {
      "cell_type": "markdown",
      "metadata": {},
      "source": [
        "**3. With the help of rdkit.Chem.AllChem.GetMorganFingerprintAsBitVect, compute its fingerprint as a bit vector.**"
      ]
    },
    {
      "cell_type": "code",
      "execution_count": 10,
      "metadata": {
        "id": "9VLF599Yv5V1"
      },
      "outputs": [
        {
          "data": {
            "text/plain": [
              "(1024,)"
            ]
          },
          "execution_count": 10,
          "metadata": {},
          "output_type": "execute_result"
        }
      ],
      "source": [
        "morphine = suppl[0]\n",
        "bit_vector = np.array(GetMorganFingerprintAsBitVect(morphine, 2, nBits=1024))\n",
        "assert np.all((bit_vector == 0) | (bit_vector == 1))\n",
        "bit_vector.shape"
      ]
    },
    {
      "cell_type": "markdown",
      "metadata": {
        "id": "gljbmF6p3RX8"
      },
      "source": [
        "## EX3. Fingerprints\n",
        "\n",
        "\n",
        "A chemical structure can be characterized by a set of numerical values known as molecular fingerprints. They may be 2D Fragment-based fingerprints presented by bit arrays of 0s and 1s wherein each bit position indicates the presence or absence of structural fragments.\n",
        "\n",
        "\n",
        "The RDKit has a variety of built-in functionality for generating molecular fingerprints and then using them to calculate molecular similarity. In this exercise, we will generate the fingerprints for parcetamol and aspirin that are two popular drugs used for pains.\n",
        "\n",
        "\n",
        "\n",
        "**1. Compute the fingerprint of the paracetamol as bit vector by using the rdkit.AllChem.GetMorganFingerprintAsBitVectCompute Class. Convert it to a numpy vector. Known that Paracetamol's SMILES is \"\"CC(=O)OC1=CC=CC=C1C(O)=O\". Choose the number of bits nBits= 1024. Find the elements that are nonzero of the vector.**\n"
      ]
    },
    {
      "cell_type": "code",
      "execution_count": 11,
      "metadata": {},
      "outputs": [],
      "source": [
        "def get_non_zero(molecule):\n",
        "    bit_vector = np.array(GetMorganFingerprintAsBitVect(molecule, 2, nBits=1024))\n",
        "    return np.nonzero(bit_vector)"
      ]
    },
    {
      "cell_type": "code",
      "execution_count": 12,
      "metadata": {},
      "outputs": [
        {
          "data": {
            "text/plain": [
              "(array([  33,   53,  128,  191,  245,  289,  356,  530,  578,  650,  726,\n",
              "         745,  754,  792,  807,  843,  849,  893, 1017]),)"
            ]
          },
          "execution_count": 12,
          "metadata": {},
          "output_type": "execute_result"
        }
      ],
      "source": [
        "paracetamol = MolFromSmiles(\"CC(=O)NC1=CC=C(O)C=C1\")\n",
        "get_non_zero(paracetamol)"
      ]
    },
    {
      "cell_type": "markdown",
      "metadata": {},
      "source": [
        "**2. Do the same thing for the aspirin. Aspirin's SMILES is \"CC(=O)NC1=CC=C(O)C=C1\".**"
      ]
    },
    {
      "cell_type": "code",
      "execution_count": 13,
      "metadata": {},
      "outputs": [
        {
          "data": {
            "text/plain": [
              "(array([  11,   23,   33,   64,  175,  356,  386,  389,  423,  444,  456,\n",
              "         592,  650,  695,  705,  726,  751,  807,  849,  893,  909,  946,\n",
              "         967, 1017]),)"
            ]
          },
          "execution_count": 13,
          "metadata": {},
          "output_type": "execute_result"
        }
      ],
      "source": [
        "aspirin = MolFromSmiles(\"CC(=O)OC1=CC=CC=C1C(=O)O\")\n",
        "get_non_zero(aspirin)"
      ]
    },
    {
      "cell_type": "markdown",
      "metadata": {},
      "source": [
        "**3. Using rdkit.DataStructs.DiceSimilarity(), compute the DiceSimilarity between the fingerprints of the paracetamol and the aspirin.**"
      ]
    },
    {
      "cell_type": "code",
      "execution_count": 14,
      "metadata": {
        "id": "8PALjOz5232Z"
      },
      "outputs": [
        {
          "data": {
            "text/plain": [
              "0.37209302325581395"
            ]
          },
          "execution_count": 14,
          "metadata": {},
          "output_type": "execute_result"
        }
      ],
      "source": [
        "from rdkit.DataStructs import DiceSimilarity\n",
        "\n",
        "paracetamol_bit_vector = GetMorganFingerprintAsBitVect(paracetamol, 2, nBits=1024)\n",
        "aspirin_bit_vector = GetMorganFingerprintAsBitVect(aspirin, 2, nBits=1024)\n",
        "DiceSimilarity(paracetamol_bit_vector, aspirin_bit_vector)"
      ]
    },
    {
      "cell_type": "markdown",
      "metadata": {
        "id": "GZXsjZGw3ofC"
      },
      "source": [
        "## EX 4: Descriptors\n",
        "\n",
        "Molecules are also described by a set of physiochemical descriptors. They should be the log partition coefficient, the polar surface area ... that describe the molecule's structure.\n",
        "\n",
        "\n",
        "RDKit provides utilities that allow us to compute descriptor of molecules.\n",
        "Using the rdkit.ML.Descriptors.MoleculeDescriptors.MolecularDescriptorCalculator class, compute the descriptor for paracetamol molecule from SMILES string. Note that SMILES string for paracetamol is \"CC(=O)NC1=CC=C(O)C=C1\"\n",
        "\n"
      ]
    },
    {
      "cell_type": "code",
      "execution_count": 15,
      "metadata": {
        "id": "vQcACF5K3l1y"
      },
      "outputs": [
        {
          "data": {
            "text/html": [
              "<div>\n",
              "<style scoped>\n",
              "    .dataframe tbody tr th:only-of-type {\n",
              "        vertical-align: middle;\n",
              "    }\n",
              "\n",
              "    .dataframe tbody tr th {\n",
              "        vertical-align: top;\n",
              "    }\n",
              "\n",
              "    .dataframe thead th {\n",
              "        text-align: right;\n",
              "    }\n",
              "</style>\n",
              "<table border=\"1\" class=\"dataframe\">\n",
              "  <thead>\n",
              "    <tr style=\"text-align: right;\">\n",
              "      <th></th>\n",
              "      <th>Descriptor</th>\n",
              "      <th>Value</th>\n",
              "    </tr>\n",
              "  </thead>\n",
              "  <tbody>\n",
              "    <tr>\n",
              "      <th>0</th>\n",
              "      <td>MaxEStateIndex</td>\n",
              "      <td>10.524469</td>\n",
              "    </tr>\n",
              "    <tr>\n",
              "      <th>1</th>\n",
              "      <td>MinEStateIndex</td>\n",
              "      <td>-0.115102</td>\n",
              "    </tr>\n",
              "    <tr>\n",
              "      <th>2</th>\n",
              "      <td>MaxAbsEStateIndex</td>\n",
              "      <td>10.524469</td>\n",
              "    </tr>\n",
              "    <tr>\n",
              "      <th>3</th>\n",
              "      <td>MinAbsEStateIndex</td>\n",
              "      <td>0.115102</td>\n",
              "    </tr>\n",
              "    <tr>\n",
              "      <th>4</th>\n",
              "      <td>qed</td>\n",
              "      <td>0.595026</td>\n",
              "    </tr>\n",
              "  </tbody>\n",
              "</table>\n",
              "</div>"
            ],
            "text/plain": [
              "          Descriptor      Value\n",
              "0     MaxEStateIndex  10.524469\n",
              "1     MinEStateIndex  -0.115102\n",
              "2  MaxAbsEStateIndex  10.524469\n",
              "3  MinAbsEStateIndex   0.115102\n",
              "4                qed   0.595026"
            ]
          },
          "execution_count": 15,
          "metadata": {},
          "output_type": "execute_result"
        }
      ],
      "source": [
        "paracetamol = MolFromSmiles(\"CC(=O)NC1=CC=C(O)C=C1\")\n",
        "desc_names = [desc_name for desc_name, _ in Descriptors.descList]\n",
        "description = MolecularDescriptorCalculator(desc_names).CalcDescriptors(paracetamol)\n",
        "df = pd.DataFrame({\"Descriptor\": desc_names, \"Value\": description})\n",
        "df.head()"
      ]
    },
    {
      "cell_type": "markdown",
      "metadata": {
        "id": "SvHtYagP31vo"
      },
      "source": [
        "## Ex5: SMART\n",
        "\n",
        "In many commonly used applications, we need to determine whether atoms in a molecule match a particular pattern. It can be used for filtering structures or identifying substructures that are associated with toxicological problem.\n",
        "\n",
        "SMART us an extension of the SMILES language that can be used to create queries.\n",
        "\n",
        "1. Find molecules in the following list named \"smiles_list\" that contain the \"CCC\" pattern (you can use the GetSubstructMatch class)."
      ]
    },
    {
      "cell_type": "code",
      "execution_count": 107,
      "metadata": {
        "id": "mXqKwAO03xQi"
      },
      "outputs": [
        {
          "name": "stdout",
          "output_type": "stream",
          "text": [
            "((0, 1, 2), (1, 2, 3), (2, 3, 4))\n",
            "(0, 1, 2, 1, 2, 3, 2, 3, 4)\n",
            "Match for CCCCC\n",
            "No match for CCOCC\n",
            "No match for CCNCC\n",
            "No match for CC(=O)Nc1ccc(O)cc1\n",
            "No match for CC(=O)Nc1ccc(O[13CH3])cc1\n",
            "No match for CN(C(=O)C(Cl)Cl)c1ccc(O)cc1\n"
          ]
        },
        {
          "data": {
            "image/png": "[encoded data removed]",
            "text/plain": [
              "<Figure size 2160x360 with 6 Axes>"
            ]
          },
          "metadata": {},
          "output_type": "display_data"
        }
      ],
      "source": [
        "smiles_list = [\n",
        "    \"CCCCC\",\n",
        "    \"CCOCC\",\n",
        "    \"CCNCC\",\n",
        "    \"CC(=O)NC1=CC=C(O)C=C1\",\n",
        "    \"CC(=O)NC1=CC=C(O[13CH3])C=C1\",\n",
        "    \"CN(C(=O)C(Cl)Cl)C1=CC=C(O)C=C1\",\n",
        "]\n",
        "fig = plt.figure(figsize=(len(smiles_list) * 5, 5))\n",
        "fig.set_facecolor(\"white\")\n",
        "\n",
        "pattern = Chem.MolFromSmarts(\"CCC\")\n",
        "mol_list = [MolFromSmiles(smiles) for smiles in smiles_list]\n",
        "for i, mol in enumerate(mol_list):\n",
        "    ax = fig.add_subplot(1, len(smiles_list), i + 1)\n",
        "\n",
        "    ax.set_xticks([])\n",
        "    ax.set_yticks([])\n",
        "    substructs = mol.GetSubstructMatches(pattern)\n",
        "    molimg = MolToImage(mol)\n",
        "    ax.imshow(molimg)\n",
        "    ax.set_title(f\"{Chem.MolToSmiles(mol)}\")\n",
        "\n",
        "    if mol.HasSubstructMatch(pattern):\n",
        "        print(f\"Match for {Chem.MolToSmiles(mol)}\")\n",
        "    else:\n",
        "        print(f\"No match for {Chem.MolToSmiles(mol)}\")\n",
        "\n",
        "plt.tight_layout()\n",
        "plt.show()"
      ]
    },
    {
      "cell_type": "markdown",
      "metadata": {},
      "source": [
        "Nous remarquons qu'une seul molécule correspond au pattern `CCC` c'est la molécule à la notation SMILE `CCCCC`."
      ]
    },
    {
      "cell_type": "markdown",
      "metadata": {},
      "source": [
        "**2. Highlight the pattern \"CCC\" in these molecules**"
      ]
    },
    {
      "cell_type": "code",
      "execution_count": 122,
      "metadata": {},
      "outputs": [
        {
          "data": {
            "image/png": "[encoded data removed]",
            "text/plain": [
              "<rdkit.Chem.rdchem.Mol at 0x7f84963f4dd0>"
            ]
          },
          "execution_count": 122,
          "metadata": {},
          "output_type": "execute_result"
        }
      ],
      "source": [
        "matching_mol = mol_list[0]\n",
        "matching_mol.GetSubstructMatches(pattern)\n",
        "matching_mol"
      ]
    },
    {
      "cell_type": "markdown",
      "metadata": {},
      "source": [
        "**3. Do the same thing ex 1 but for the pattern \"C(=O)N\".**"
      ]
    },
    {
      "cell_type": "markdown",
      "metadata": {
        "id": "UxbRPmkS4LSq"
      },
      "source": [
        "## Ex6: Machine learning with RDkit - Predict solubility\n",
        "\n",
        "In this exercise, we will use machine learning to predict solubility of molecules. For this purpose, we will borrow a dataset from rdkit that is originated from the Huuskonen dataset. We will try to predict Aqueous Solubility for molecules that is known as \"logS\".\n",
        "\n",
        "\n",
        "This exercise is divided into 3 parts: Preparing a dataset, training a model and preparing dataset for prediction and applying a predictive model.\n",
        "\n"
      ]
    },
    {
      "cell_type": "markdown",
      "metadata": {
        "id": "FpqVGPg_4QaQ"
      },
      "source": [
        "## EX6.I Preparing dataset\n",
        "\n",
        "Preparing dataset requires a few steps:\n",
        "\n",
        "\n",
        "**1. Download file from \"https://raw.githubusercontent.com/rdkit/rdkit/master/Docs/Book/data/solubility.train.sdf\".**"
      ]
    },
    {
      "cell_type": "code",
      "execution_count": 123,
      "metadata": {
        "colab": {
          "base_uri": "https://localhost:8080/"
        },
        "id": "uAuDoU7u3_k4",
        "outputId": "20a2c148-5734-4443-a665-ada416a12c62"
      },
      "outputs": [
        {
          "name": "stdout",
          "output_type": "stream",
          "text": [
            "--2023-09-22 15:25:58--  https://raw.githubusercontent.com/rdkit/rdkit/master/Docs/Book/data/solubility.train.sdf\n",
            "Resolving raw.githubusercontent.com (raw.githubusercontent.com)... 185.199.110.133, 185.199.111.133, 185.199.108.133, ...\n",
            "Connecting to raw.githubusercontent.com (raw.githubusercontent.com)|185.199.110.133|:443... connected.\n",
            "HTTP request sent, awaiting response... 200 OK\n",
            "Length: 1376487 (1.3M) [text/plain]\n",
            "Saving to: ‘solubility.train.sdf’\n",
            "\n",
            "solubility.train.sd 100%[===================>]   1.31M  --.-KB/s    in 0.08s   \n",
            "\n",
            "2023-09-22 15:25:59 (15.8 MB/s) - ‘solubility.train.sdf’ saved [1376487/1376487]\n",
            "\n"
          ]
        }
      ],
      "source": [
        "!wget https://raw.githubusercontent.com/rdkit/rdkit/master/Docs/Book/data/solubility.train.sdf"
      ]
    },
    {
      "cell_type": "markdown",
      "metadata": {},
      "source": [
        "\n",
        "**2. With the help of rdkit.Chem.SDMolSupplier, get list of molecules contained in this file. You should call this list as **molecule_list**. The option **removeHs=False** should be chosen.**"
      ]
    },
    {
      "cell_type": "code",
      "execution_count": 132,
      "metadata": {},
      "outputs": [],
      "source": [
        "molecule_list = SDMolSupplier(fileName=\"solubility.train.sdf\", removeHs=False)"
      ]
    },
    {
      "cell_type": "code",
      "execution_count": 141,
      "metadata": {},
      "outputs": [
        {
          "name": "stdout",
          "output_type": "stream",
          "text": [
            "Il y a 1025 molécules dans le fichier\n"
          ]
        }
      ],
      "source": [
        "print(f\"Il y a {len(molecule_list)} molécules dans le fichier\")"
      ]
    },
    {
      "cell_type": "markdown",
      "metadata": {},
      "source": [
        "\n",
        "**3. Write a function named **calculate_descriptors(mol)** that allows us to calculate descriptors of a molecule. This function takes a Rdkit molecule as input and returns an array vector of descriptors.**"
      ]
    },
    {
      "cell_type": "code",
      "execution_count": 136,
      "metadata": {},
      "outputs": [],
      "source": [
        "def calculate_descriptor(molecule):\n",
        "    desc_names = [desc_name for desc_name, _ in Descriptors.descList]\n",
        "    description = MolecularDescriptorCalculator(desc_names).CalcDescriptors(molecule)\n",
        "    return np.array(description)"
      ]
    },
    {
      "cell_type": "markdown",
      "metadata": {},
      "source": [
        "**4. Apply the function **caluclate_descriptors** to the list of molecules **molecule_list** and store the result in a dataframe named **df**. Look at few rows of **df** to see whether the descriptors are calculated.**"
      ]
    },
    {
      "cell_type": "code",
      "execution_count": 151,
      "metadata": {},
      "outputs": [],
      "source": [
        "df_dict = {}\n",
        "for mol in molecule_list:\n",
        "    df_dict[mol.GetProp(\"NAME\")] = calculate_descriptor(mol)\n",
        "df = pd.DataFrame(df_dict)"
      ]
    },
    {
      "cell_type": "code",
      "execution_count": 152,
      "metadata": {},
      "outputs": [
        {
          "data": {
            "text/html": [
              "<div>\n",
              "<style scoped>\n",
              "    .dataframe tbody tr th:only-of-type {\n",
              "        vertical-align: middle;\n",
              "    }\n",
              "\n",
              "    .dataframe tbody tr th {\n",
              "        vertical-align: top;\n",
              "    }\n",
              "\n",
              "    .dataframe thead th {\n",
              "        text-align: right;\n",
              "    }\n",
              "</style>\n",
              "<table border=\"1\" class=\"dataframe\">\n",
              "  <thead>\n",
              "    <tr style=\"text-align: right;\">\n",
              "      <th></th>\n",
              "      <th>n-pentane</th>\n",
              "      <th>cyclopentane</th>\n",
              "      <th>n-hexane</th>\n",
              "      <th>2-methylpentane</th>\n",
              "      <th>2,2-dimethylbutane</th>\n",
              "      <th>cyclohexane</th>\n",
              "      <th>methylcyclopentane</th>\n",
              "      <th>n-heptane</th>\n",
              "      <th>methylcyclohexane</th>\n",
              "      <th>n-octane</th>\n",
              "      <th>...</th>\n",
              "      <th>Testosterone_Propionate</th>\n",
              "      <th>Rotenone</th>\n",
              "      <th>Phenothrin</th>\n",
              "      <th>Delmadinone_Acetate</th>\n",
              "      <th>Thiopropazate</th>\n",
              "      <th>Prednisolone-21-Trimethylacetate</th>\n",
              "      <th>Glycocholic_Acid</th>\n",
              "      <th>Rolitetracycline</th>\n",
              "      <th>Hydrocortisone_Tebutate</th>\n",
              "      <th>Natamycin</th>\n",
              "    </tr>\n",
              "  </thead>\n",
              "  <tbody>\n",
              "    <tr>\n",
              "      <th>0</th>\n",
              "      <td>2.211806</td>\n",
              "      <td>1.500000</td>\n",
              "      <td>2.231806</td>\n",
              "      <td>2.253472</td>\n",
              "      <td>2.243056</td>\n",
              "      <td>1.500000</td>\n",
              "      <td>2.340278</td>\n",
              "      <td>2.245694</td>\n",
              "      <td>2.360278</td>\n",
              "      <td>2.255899</td>\n",
              "      <td>...</td>\n",
              "      <td>11.903101</td>\n",
              "      <td>13.517073</td>\n",
              "      <td>12.479392</td>\n",
              "      <td>12.738634</td>\n",
              "      <td>10.897226</td>\n",
              "      <td>13.185826</td>\n",
              "      <td>12.042248</td>\n",
              "      <td>13.125689</td>\n",
              "      <td>13.235654</td>\n",
              "      <td>12.263757</td>\n",
              "    </tr>\n",
              "    <tr>\n",
              "      <th>1</th>\n",
              "      <td>1.343750</td>\n",
              "      <td>1.500000</td>\n",
              "      <td>1.355000</td>\n",
              "      <td>0.898148</td>\n",
              "      <td>0.541667</td>\n",
              "      <td>1.500000</td>\n",
              "      <td>1.046296</td>\n",
              "      <td>1.361111</td>\n",
              "      <td>1.035880</td>\n",
              "      <td>1.364796</td>\n",
              "      <td>...</td>\n",
              "      <td>-0.041095</td>\n",
              "      <td>-0.455218</td>\n",
              "      <td>-0.118629</td>\n",
              "      <td>-1.051411</td>\n",
              "      <td>-0.199830</td>\n",
              "      <td>-1.627805</td>\n",
              "      <td>-1.044559</td>\n",
              "      <td>-2.328350</td>\n",
              "      <td>-1.605971</td>\n",
              "      <td>-2.099513</td>\n",
              "    </tr>\n",
              "    <tr>\n",
              "      <th>2</th>\n",
              "      <td>2.211806</td>\n",
              "      <td>1.500000</td>\n",
              "      <td>2.231806</td>\n",
              "      <td>2.253472</td>\n",
              "      <td>2.243056</td>\n",
              "      <td>1.500000</td>\n",
              "      <td>2.340278</td>\n",
              "      <td>2.245694</td>\n",
              "      <td>2.360278</td>\n",
              "      <td>2.255899</td>\n",
              "      <td>...</td>\n",
              "      <td>11.903101</td>\n",
              "      <td>13.517073</td>\n",
              "      <td>12.479392</td>\n",
              "      <td>12.738634</td>\n",
              "      <td>10.897226</td>\n",
              "      <td>13.185826</td>\n",
              "      <td>12.042248</td>\n",
              "      <td>13.125689</td>\n",
              "      <td>13.235654</td>\n",
              "      <td>12.263757</td>\n",
              "    </tr>\n",
              "    <tr>\n",
              "      <th>3</th>\n",
              "      <td>1.343750</td>\n",
              "      <td>1.500000</td>\n",
              "      <td>1.355000</td>\n",
              "      <td>0.898148</td>\n",
              "      <td>0.541667</td>\n",
              "      <td>1.500000</td>\n",
              "      <td>1.046296</td>\n",
              "      <td>1.361111</td>\n",
              "      <td>1.035880</td>\n",
              "      <td>1.364796</td>\n",
              "      <td>...</td>\n",
              "      <td>0.041095</td>\n",
              "      <td>0.022773</td>\n",
              "      <td>0.021208</td>\n",
              "      <td>0.023663</td>\n",
              "      <td>0.199830</td>\n",
              "      <td>0.003051</td>\n",
              "      <td>0.066834</td>\n",
              "      <td>0.037157</td>\n",
              "      <td>0.033093</td>\n",
              "      <td>0.078936</td>\n",
              "    </tr>\n",
              "    <tr>\n",
              "      <th>4</th>\n",
              "      <td>0.468786</td>\n",
              "      <td>0.408362</td>\n",
              "      <td>0.462954</td>\n",
              "      <td>0.483890</td>\n",
              "      <td>0.424482</td>\n",
              "      <td>0.422316</td>\n",
              "      <td>0.421791</td>\n",
              "      <td>0.476310</td>\n",
              "      <td>0.436570</td>\n",
              "      <td>0.480611</td>\n",
              "      <td>...</td>\n",
              "      <td>0.673250</td>\n",
              "      <td>0.739996</td>\n",
              "      <td>0.490610</td>\n",
              "      <td>0.636542</td>\n",
              "      <td>0.583226</td>\n",
              "      <td>0.648763</td>\n",
              "      <td>0.410290</td>\n",
              "      <td>0.574043</td>\n",
              "      <td>0.619599</td>\n",
              "      <td>0.156889</td>\n",
              "    </tr>\n",
              "  </tbody>\n",
              "</table>\n",
              "<p>5 rows × 1025 columns</p>\n",
              "</div>"
            ],
            "text/plain": [
              "   n-pentane  cyclopentane  n-hexane  2-methylpentane  2,2-dimethylbutane  \\\n",
              "0   2.211806      1.500000  2.231806         2.253472            2.243056   \n",
              "1   1.343750      1.500000  1.355000         0.898148            0.541667   \n",
              "2   2.211806      1.500000  2.231806         2.253472            2.243056   \n",
              "3   1.343750      1.500000  1.355000         0.898148            0.541667   \n",
              "4   0.468786      0.408362  0.462954         0.483890            0.424482   \n",
              "\n",
              "   cyclohexane  methylcyclopentane  n-heptane  methylcyclohexane  n-octane  \\\n",
              "0     1.500000            2.340278   2.245694           2.360278  2.255899   \n",
              "1     1.500000            1.046296   1.361111           1.035880  1.364796   \n",
              "2     1.500000            2.340278   2.245694           2.360278  2.255899   \n",
              "3     1.500000            1.046296   1.361111           1.035880  1.364796   \n",
              "4     0.422316            0.421791   0.476310           0.436570  0.480611   \n",
              "\n",
              "   ...  Testosterone_Propionate   Rotenone  Phenothrin  Delmadinone_Acetate  \\\n",
              "0  ...                11.903101  13.517073   12.479392            12.738634   \n",
              "1  ...                -0.041095  -0.455218   -0.118629            -1.051411   \n",
              "2  ...                11.903101  13.517073   12.479392            12.738634   \n",
              "3  ...                 0.041095   0.022773    0.021208             0.023663   \n",
              "4  ...                 0.673250   0.739996    0.490610             0.636542   \n",
              "\n",
              "   Thiopropazate  Prednisolone-21-Trimethylacetate  Glycocholic_Acid  \\\n",
              "0      10.897226                         13.185826         12.042248   \n",
              "1      -0.199830                         -1.627805         -1.044559   \n",
              "2      10.897226                         13.185826         12.042248   \n",
              "3       0.199830                          0.003051          0.066834   \n",
              "4       0.583226                          0.648763          0.410290   \n",
              "\n",
              "   Rolitetracycline  Hydrocortisone_Tebutate  Natamycin  \n",
              "0         13.125689                13.235654  12.263757  \n",
              "1         -2.328350                -1.605971  -2.099513  \n",
              "2         13.125689                13.235654  12.263757  \n",
              "3          0.037157                 0.033093   0.078936  \n",
              "4          0.574043                 0.619599   0.156889  \n",
              "\n",
              "[5 rows x 1025 columns]"
            ]
          },
          "execution_count": 152,
          "metadata": {},
          "output_type": "execute_result"
        }
      ],
      "source": [
        "df.head()"
      ]
    },
    {
      "cell_type": "markdown",
      "metadata": {},
      "source": [
        "**5. For each molecule from this dataset, we can get the aqueous solubility (logS) via attribute **getProp('SOL')**. Create a list that contains the aqueous solubility of all molecules from the **molecule_list** list. You should call this list by **labels**. Remember to convert these values to float format.**"
      ]
    },
    {
      "cell_type": "code",
      "execution_count": 155,
      "metadata": {},
      "outputs": [],
      "source": [
        "sol_list = [float(mol.GetProp(\"SOL\")) for mol in molecule_list]"
      ]
    },
    {
      "cell_type": "code",
      "execution_count": 156,
      "metadata": {},
      "outputs": [
        {
          "data": {
            "text/plain": [
              "[-3.18, -2.64, -3.84, -3.74, -3.55]"
            ]
          },
          "execution_count": 156,
          "metadata": {},
          "output_type": "execute_result"
        }
      ],
      "source": [
        "sol_list[:5]"
      ]
    },
    {
      "cell_type": "markdown",
      "metadata": {},
      "source": [
        "\n",
        "\n",
        "**6. Plot the histogram of the \"labels\" list to see the distribution of the solubility of molecules. Do you have some comments about the aqueous solubility of molecules ?**\n",
        "\n"
      ]
    },
    {
      "cell_type": "code",
      "execution_count": 160,
      "metadata": {
        "id": "38SxXEj75DG6"
      },
      "outputs": [
        {
          "data": {
            "image/png": "[encoded data removed]",
            "text/plain": [
              "<Figure size 720x720 with 1 Axes>"
            ]
          },
          "metadata": {
            "needs_background": "light"
          },
          "output_type": "display_data"
        }
      ],
      "source": [
        "fig = plt.figure(figsize=(10, 10))\n",
        "ax = fig.add_subplot(111)\n",
        "ax.hist(sol_list, bins=50)\n",
        "ax.set_xlabel(\"Solubility\")\n",
        "ax.set_ylabel(\"Nombre de molecules\")\n",
        "ax.set_title(\"Distribution de la solubilité\")\n",
        "plt.show()"
      ]
    },
    {
      "cell_type": "markdown",
      "metadata": {},
      "source": [
        "On peut remarquer que la distribution des valeurs de la log-solubilité est centrée autour de -2. On peut donc supposer que la majorité des molécules sont peu soluble dans l'eau."
      ]
    },
    {
      "cell_type": "markdown",
      "metadata": {
        "id": "KRtVHEjH5M9m"
      },
      "source": [
        "## Ex6.II Feature Engineering and Training a model of regression.\n",
        "\n",
        "Now, we have the **df** dataframe that contains the descriptors for molecules and the **labels** list that contains the solvant property of molecules.\n",
        "\n",
        "1. Check the dataframe **df** to see whether it contains NaN values. How many row contained NaN values are there in the dataframe **df** ? Remove these rows from  **df** and **labels**.\n",
        "\n",
        "\n",
        "2. Apply the MinMaxScaler to the dataframe **df** to normalize the data.\n",
        "\n",
        "\n",
        "3. Construct and train a regression model.\n",
        "\n",
        "\n",
        "4. Calculate the square root error for the dataset"
      ]
    },
    {
      "cell_type": "code",
      "execution_count": null,
      "metadata": {
        "id": "gWvfR-8x5H84"
      },
      "outputs": [],
      "source": []
    },
    {
      "cell_type": "code",
      "execution_count": null,
      "metadata": {
        "id": "GIogC40t5Tu8"
      },
      "outputs": [],
      "source": []
    },
    {
      "cell_type": "code",
      "execution_count": null,
      "metadata": {
        "id": "rdzWDho25bAs"
      },
      "outputs": [],
      "source": []
    },
    {
      "cell_type": "code",
      "execution_count": null,
      "metadata": {
        "id": "dtonURI45dvL"
      },
      "outputs": [],
      "source": []
    },
    {
      "cell_type": "code",
      "execution_count": null,
      "metadata": {
        "id": "6IN4BUGK5mjK"
      },
      "outputs": [],
      "source": []
    },
    {
      "cell_type": "code",
      "execution_count": null,
      "metadata": {
        "id": "WJR3jwY45nZ5"
      },
      "outputs": [],
      "source": []
    },
    {
      "cell_type": "code",
      "execution_count": null,
      "metadata": {
        "id": "y8WyXMy95pzF"
      },
      "outputs": [],
      "source": []
    },
    {
      "cell_type": "markdown",
      "metadata": {
        "id": "kESW-Pem5zPX"
      },
      "source": [
        "## Ex6.III Prepare data for test  and test model\n",
        "\n",
        "\n",
        "1. Download file from \"https://github.com/rdkit/rdkit/blob/master/Docs/Book/data/solubility.test.sdf\".\n",
        "\n",
        "2. Read molecules from this file and store them in a list named **list_molecule_test**.\n",
        "\n",
        "\n",
        "3. Take a molecule from the **list_molecule_test** and then calculate its descriptions thank to the **calculate_descriptors(mol)** function that you've coded above.\n",
        "\n",
        "\n",
        "4. Apply **minmaxscaler** to these descriptors. Note that **minmaxscaler**  is one that you've created at Ex6.II.\n",
        "\n",
        "\n",
        "5. Use the model that you've trained to predict the aqueous solubility (logS) of the molecule. Compare to the real logS value of the molecule.\n",
        "\n",
        "6. (Optional) Calculate the mean square root error of the model for this dataset.\n",
        "\n",
        "\n",
        "\n",
        "Note: If there exists problem of reading the file solubility.test.sdf as\n",
        "\"RDKit ERROR: [09:28:36] ERROR: moving to the beginning of the next molecule\n",
        "RDKit ERROR: [09:32:48] ERROR: Counts line too short: '' on line4\"\n",
        "so, go to the url, click \"raw\" and save this file by hand. The error will be gone away\n"
      ]
    },
    {
      "cell_type": "code",
      "execution_count": 17,
      "metadata": {
        "colab": {
          "base_uri": "https://localhost:8080/"
        },
        "id": "SMo-oKP-Rhv-",
        "outputId": "57380b07-7444-4b56-b614-81dec92bcf35"
      },
      "outputs": [
        {
          "name": "stdout",
          "output_type": "stream",
          "text": [
            "--2023-09-22 13:38:27--  https://github.com/rdkit/rdkit/blob/master/Docs/Book/data/solubility.test.sdf\n",
            "Resolving github.com (github.com)... 140.82.121.3\n",
            "Connecting to github.com (github.com)|140.82.121.3|:443... connected.\n",
            "HTTP request sent, awaiting response... "
          ]
        },
        {
          "name": "stdout",
          "output_type": "stream",
          "text": [
            "200 OK\n",
            "Length: 327938 (320K) [text/plain]\n",
            "Saving to: ‘solubility.test.sdf’\n",
            "\n",
            "solubility.test.sdf 100%[===================>] 320.25K  --.-KB/s    in 0.04s   \n",
            "\n",
            "2023-09-22 13:38:27 (7.21 MB/s) - ‘solubility.test.sdf’ saved [327938/327938]\n",
            "\n"
          ]
        }
      ],
      "source": [
        "# 1. Download the file\n",
        "!wget https://github.com/rdkit/rdkit/blob/master/Docs/Book/data/solubility.test.sdf"
      ]
    },
    {
      "cell_type": "code",
      "execution_count": null,
      "metadata": {
        "id": "NPY8dEJs5v1x"
      },
      "outputs": [],
      "source": []
    },
    {
      "cell_type": "code",
      "execution_count": null,
      "metadata": {
        "id": "nzS4GfEAxzUQ"
      },
      "outputs": [],
      "source": []
    },
    {
      "cell_type": "code",
      "execution_count": null,
      "metadata": {
        "id": "Ni3z7j7G561j"
      },
      "outputs": [],
      "source": []
    },
    {
      "cell_type": "code",
      "execution_count": null,
      "metadata": {
        "id": "Ed3NApbv5_Yp"
      },
      "outputs": [],
      "source": []
    },
    {
      "cell_type": "code",
      "execution_count": null,
      "metadata": {
        "id": "vauBuC-R66GF"
      },
      "outputs": [],
      "source": []
    }
  ],
  "metadata": {
    "colab": {
      "include_colab_link": true,
      "provenance": []
    },
    "kernelspec": {
      "display_name": "Python 3",
      "name": "python3"
    },
    "language_info": {
      "codemirror_mode": {
        "name": "ipython",
        "version": 3
      },
      "file_extension": ".py",
      "mimetype": "text/x-python",
      "name": "python",
      "nbconvert_exporter": "python",
      "pygments_lexer": "ipython3",
      "version": "3.10.6"
    }
  },
  "nbformat": 4,
  "nbformat_minor": 0
}
