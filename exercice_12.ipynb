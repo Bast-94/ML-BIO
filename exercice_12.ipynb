{
  "nbformat": 4,
  "nbformat_minor": 0,
  "metadata": {
    "colab": {
      "provenance": [],
      "authorship_tag": "ABX9TyMC9aQ3U9silnDz22rNQ2py",
      "include_colab_link": true
    },
    "kernelspec": {
      "name": "python3",
      "display_name": "Python 3"
    },
    "language_info": {
      "name": "python"
    }
  },
  "cells": [
    {
      "cell_type": "markdown",
      "metadata": {
        "id": "view-in-github",
        "colab_type": "text"
      },
      "source": [
        "<a href=\"https://colab.research.google.com/github/Bast-94/ML-BIO/blob/exercice-12/exercice_12.ipynb\" target=\"_parent\"><img src=\"https://colab.research.google.com/assets/colab-badge.svg\" alt=\"Open In Colab\"/></a>"
      ]
    },
    {
      "cell_type": "markdown",
      "source": [
        "# Exercice 12:"
      ],
      "metadata": {
        "id": "0pP3htYzA2Gv"
      }
    },
    {
      "cell_type": "markdown",
      "source": [
        "1. Tester un modèle de convolution 1D sans faire des extractions de features.\n",
        "\n",
        "2. Tester un classifier avec et sans faire la transformée en ondelettes pour savoir si le modèle donne une meilleur résultat avec la transformée en ondelettes ?\n",
        "\n",
        "3. Tester des modèles de classification différentes  comme RadomForest, ExtraTrees, GradientBoosting, etc.\n",
        "\n",
        "4. Tester des différentes familles d'ondelettes comme Symlets, Coiflets, Biorthogonal etc.\n",
        "\n",
        "5. Tester d'autres features (vous pouvez vous référer des listes de features avec des librairies tsfresh ou tsfel )\n",
        "\n",
        "6. A l'aide de la transformée en ondelettes continue, transformez des signaux ECG en scaleograms et puis utilisez un modèle CNN pour classifier des images.\n"
      ],
      "metadata": {
        "id": "8WzN9jVCTGVh"
      }
    }
  ]
}